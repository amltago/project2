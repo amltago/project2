{
  "nbformat": 4,
  "nbformat_minor": 0,
  "metadata": {
    "colab": {
      "name": "ProjectB2.ipynb",
      "provenance": [],
      "collapsed_sections": [],
      "toc_visible": true,
      "mount_file_id": "10RN1X_42cKHSuHX-8n8_jAJL9PAtUA6-",
      "authorship_tag": "ABX9TyOz/KS89m+8tVLC0fOrWqf4",
      "include_colab_link": true
    },
    "kernelspec": {
      "name": "python3",
      "display_name": "Python 3"
    },
    "language_info": {
      "name": "python"
    }
  },
  "cells": [
    {
      "cell_type": "markdown",
      "metadata": {
        "id": "view-in-github",
        "colab_type": "text"
      },
      "source": [
        "<a href=\"https://colab.research.google.com/github/amltago/project2/blob/main/ProjectB2.ipynb\" target=\"_parent\"><img src=\"https://colab.research.google.com/assets/colab-badge.svg\" alt=\"Open In Colab\"/></a>"
      ]
    },
    {
      "cell_type": "markdown",
      "source": [
        "# Marketing Campaign- Financial Institution"
      ],
      "metadata": {
        "id": "Mdby2fOIlz5R"
      }
    },
    {
      "cell_type": "markdown",
      "source": [
        "## Data Preparation"
      ],
      "metadata": {
        "id": "TrfVJfdD1Yft"
      }
    },
    {
      "cell_type": "code",
      "source": [
        "from google.colab import drive\n",
        "drive.mount('/content/drive')"
      ],
      "metadata": {
        "colab": {
          "base_uri": "https://localhost:8080/"
        },
        "id": "Jmm9xTFNlqPj",
        "outputId": "7f6737d9-945c-4414-a8b9-6c7cb7ef42c4"
      },
      "execution_count": 1,
      "outputs": [
        {
          "output_type": "stream",
          "name": "stdout",
          "text": [
            "Drive already mounted at /content/drive; to attempt to forcibly remount, call drive.mount(\"/content/drive\", force_remount=True).\n"
          ]
        }
      ]
    },
    {
      "cell_type": "code",
      "source": [
        "# Importing libraries\n",
        "\n",
        "import pandas as pd\n",
        "from sklearn.model_selection import train_test_split\n",
        "import numpy as np\n",
        "from sklearn.preprocessing import StandardScaler\n",
        "from sklearn.compose import make_column_selector\n",
        "from sklearn.preprocessing import OneHotEncoder\n",
        "from sklearn.impute import SimpleImputer\n",
        "from sklearn import set_config\n",
        "from sklearn.pipeline import make_pipeline\n",
        "set_config(display='diagram')\n",
        "from sklearn.compose import make_column_transformer\n",
        "import matplotlib.pyplot as plt\n",
        "import statistics\n",
        "import seaborn as sns\n",
        "from sklearn.tree import DecisionTreeClassifier\n",
        "from sklearn.ensemble import RandomForestClassifier\n",
        "from sklearn.ensemble import BaggingClassifier\n",
        "from sklearn.metrics import plot_confusion_matrix\n",
        "import numpy as np\n",
        "import matplotlib.pyplot as plt\n",
        "import pandas as pd\n",
        "from sklearn.preprocessing import LabelEncoder, StandardScaler\n",
        "from sklearn.model_selection import train_test_split\n",
        "from sklearn.decomposition import PCA\n",
        "from sklearn.pipeline import make_pipeline\n",
        "from sklearn.compose import make_column_transformer\n",
        "from sklearn.compose import make_column_selector\n",
        "from sklearn.metrics import silhouette_score\n",
        "import seaborn as sns\n",
        "from sklearn.metrics import silhouette_score, classification_report, confusion_matrix\n",
        "from sklearn import metrics\n",
        "from sklearn.metrics import roc_auc_score, plot_roc_curve\n",
        "from sklearn.ensemble import GradientBoostingClassifier\n",
        "from xgboost import XGBClassifier"
      ],
      "metadata": {
        "id": "nKIXNpe7mEh6"
      },
      "execution_count": 2,
      "outputs": []
    },
    {
      "cell_type": "code",
      "source": [
        "bank = '/content/drive/MyDrive/Coding Dojo/Files/bank.csv'\n",
        "df = pd.read_csv(bank)\n",
        "df.head()"
      ],
      "metadata": {
        "colab": {
          "base_uri": "https://localhost:8080/",
          "height": 206
        },
        "id": "HhgnHkDRmaP9",
        "outputId": "61bd764c-94bf-4e35-8ed3-9e8242c2576b"
      },
      "execution_count": 3,
      "outputs": [
        {
          "output_type": "execute_result",
          "data": {
            "text/plain": [
              "   age         job  marital  education default  balance housing loan  contact  \\\n",
              "0   59      admin.  married  secondary      no     2343     yes   no  unknown   \n",
              "1   56      admin.  married  secondary      no       45      no   no  unknown   \n",
              "2   41  technician  married  secondary      no     1270     yes   no  unknown   \n",
              "3   55    services  married  secondary      no     2476     yes   no  unknown   \n",
              "4   54      admin.  married   tertiary      no      184      no   no  unknown   \n",
              "\n",
              "   day month  duration  campaign  pdays  previous poutcome deposit  \n",
              "0    5   may      1042         1     -1         0  unknown     yes  \n",
              "1    5   may      1467         1     -1         0  unknown     yes  \n",
              "2    5   may      1389         1     -1         0  unknown     yes  \n",
              "3    5   may       579         1     -1         0  unknown     yes  \n",
              "4    5   may       673         2     -1         0  unknown     yes  "
            ],
            "text/html": [
              "\n",
              "  <div id=\"df-db2cf12d-eed9-4cad-ada8-0191006e7ea8\">\n",
              "    <div class=\"colab-df-container\">\n",
              "      <div>\n",
              "<style scoped>\n",
              "    .dataframe tbody tr th:only-of-type {\n",
              "        vertical-align: middle;\n",
              "    }\n",
              "\n",
              "    .dataframe tbody tr th {\n",
              "        vertical-align: top;\n",
              "    }\n",
              "\n",
              "    .dataframe thead th {\n",
              "        text-align: right;\n",
              "    }\n",
              "</style>\n",
              "<table border=\"1\" class=\"dataframe\">\n",
              "  <thead>\n",
              "    <tr style=\"text-align: right;\">\n",
              "      <th></th>\n",
              "      <th>age</th>\n",
              "      <th>job</th>\n",
              "      <th>marital</th>\n",
              "      <th>education</th>\n",
              "      <th>default</th>\n",
              "      <th>balance</th>\n",
              "      <th>housing</th>\n",
              "      <th>loan</th>\n",
              "      <th>contact</th>\n",
              "      <th>day</th>\n",
              "      <th>month</th>\n",
              "      <th>duration</th>\n",
              "      <th>campaign</th>\n",
              "      <th>pdays</th>\n",
              "      <th>previous</th>\n",
              "      <th>poutcome</th>\n",
              "      <th>deposit</th>\n",
              "    </tr>\n",
              "  </thead>\n",
              "  <tbody>\n",
              "    <tr>\n",
              "      <th>0</th>\n",
              "      <td>59</td>\n",
              "      <td>admin.</td>\n",
              "      <td>married</td>\n",
              "      <td>secondary</td>\n",
              "      <td>no</td>\n",
              "      <td>2343</td>\n",
              "      <td>yes</td>\n",
              "      <td>no</td>\n",
              "      <td>unknown</td>\n",
              "      <td>5</td>\n",
              "      <td>may</td>\n",
              "      <td>1042</td>\n",
              "      <td>1</td>\n",
              "      <td>-1</td>\n",
              "      <td>0</td>\n",
              "      <td>unknown</td>\n",
              "      <td>yes</td>\n",
              "    </tr>\n",
              "    <tr>\n",
              "      <th>1</th>\n",
              "      <td>56</td>\n",
              "      <td>admin.</td>\n",
              "      <td>married</td>\n",
              "      <td>secondary</td>\n",
              "      <td>no</td>\n",
              "      <td>45</td>\n",
              "      <td>no</td>\n",
              "      <td>no</td>\n",
              "      <td>unknown</td>\n",
              "      <td>5</td>\n",
              "      <td>may</td>\n",
              "      <td>1467</td>\n",
              "      <td>1</td>\n",
              "      <td>-1</td>\n",
              "      <td>0</td>\n",
              "      <td>unknown</td>\n",
              "      <td>yes</td>\n",
              "    </tr>\n",
              "    <tr>\n",
              "      <th>2</th>\n",
              "      <td>41</td>\n",
              "      <td>technician</td>\n",
              "      <td>married</td>\n",
              "      <td>secondary</td>\n",
              "      <td>no</td>\n",
              "      <td>1270</td>\n",
              "      <td>yes</td>\n",
              "      <td>no</td>\n",
              "      <td>unknown</td>\n",
              "      <td>5</td>\n",
              "      <td>may</td>\n",
              "      <td>1389</td>\n",
              "      <td>1</td>\n",
              "      <td>-1</td>\n",
              "      <td>0</td>\n",
              "      <td>unknown</td>\n",
              "      <td>yes</td>\n",
              "    </tr>\n",
              "    <tr>\n",
              "      <th>3</th>\n",
              "      <td>55</td>\n",
              "      <td>services</td>\n",
              "      <td>married</td>\n",
              "      <td>secondary</td>\n",
              "      <td>no</td>\n",
              "      <td>2476</td>\n",
              "      <td>yes</td>\n",
              "      <td>no</td>\n",
              "      <td>unknown</td>\n",
              "      <td>5</td>\n",
              "      <td>may</td>\n",
              "      <td>579</td>\n",
              "      <td>1</td>\n",
              "      <td>-1</td>\n",
              "      <td>0</td>\n",
              "      <td>unknown</td>\n",
              "      <td>yes</td>\n",
              "    </tr>\n",
              "    <tr>\n",
              "      <th>4</th>\n",
              "      <td>54</td>\n",
              "      <td>admin.</td>\n",
              "      <td>married</td>\n",
              "      <td>tertiary</td>\n",
              "      <td>no</td>\n",
              "      <td>184</td>\n",
              "      <td>no</td>\n",
              "      <td>no</td>\n",
              "      <td>unknown</td>\n",
              "      <td>5</td>\n",
              "      <td>may</td>\n",
              "      <td>673</td>\n",
              "      <td>2</td>\n",
              "      <td>-1</td>\n",
              "      <td>0</td>\n",
              "      <td>unknown</td>\n",
              "      <td>yes</td>\n",
              "    </tr>\n",
              "  </tbody>\n",
              "</table>\n",
              "</div>\n",
              "      <button class=\"colab-df-convert\" onclick=\"convertToInteractive('df-db2cf12d-eed9-4cad-ada8-0191006e7ea8')\"\n",
              "              title=\"Convert this dataframe to an interactive table.\"\n",
              "              style=\"display:none;\">\n",
              "        \n",
              "  <svg xmlns=\"http://www.w3.org/2000/svg\" height=\"24px\"viewBox=\"0 0 24 24\"\n",
              "       width=\"24px\">\n",
              "    <path d=\"M0 0h24v24H0V0z\" fill=\"none\"/>\n",
              "    <path d=\"M18.56 5.44l.94 2.06.94-2.06 2.06-.94-2.06-.94-.94-2.06-.94 2.06-2.06.94zm-11 1L8.5 8.5l.94-2.06 2.06-.94-2.06-.94L8.5 2.5l-.94 2.06-2.06.94zm10 10l.94 2.06.94-2.06 2.06-.94-2.06-.94-.94-2.06-.94 2.06-2.06.94z\"/><path d=\"M17.41 7.96l-1.37-1.37c-.4-.4-.92-.59-1.43-.59-.52 0-1.04.2-1.43.59L10.3 9.45l-7.72 7.72c-.78.78-.78 2.05 0 2.83L4 21.41c.39.39.9.59 1.41.59.51 0 1.02-.2 1.41-.59l7.78-7.78 2.81-2.81c.8-.78.8-2.07 0-2.86zM5.41 20L4 18.59l7.72-7.72 1.47 1.35L5.41 20z\"/>\n",
              "  </svg>\n",
              "      </button>\n",
              "      \n",
              "  <style>\n",
              "    .colab-df-container {\n",
              "      display:flex;\n",
              "      flex-wrap:wrap;\n",
              "      gap: 12px;\n",
              "    }\n",
              "\n",
              "    .colab-df-convert {\n",
              "      background-color: #E8F0FE;\n",
              "      border: none;\n",
              "      border-radius: 50%;\n",
              "      cursor: pointer;\n",
              "      display: none;\n",
              "      fill: #1967D2;\n",
              "      height: 32px;\n",
              "      padding: 0 0 0 0;\n",
              "      width: 32px;\n",
              "    }\n",
              "\n",
              "    .colab-df-convert:hover {\n",
              "      background-color: #E2EBFA;\n",
              "      box-shadow: 0px 1px 2px rgba(60, 64, 67, 0.3), 0px 1px 3px 1px rgba(60, 64, 67, 0.15);\n",
              "      fill: #174EA6;\n",
              "    }\n",
              "\n",
              "    [theme=dark] .colab-df-convert {\n",
              "      background-color: #3B4455;\n",
              "      fill: #D2E3FC;\n",
              "    }\n",
              "\n",
              "    [theme=dark] .colab-df-convert:hover {\n",
              "      background-color: #434B5C;\n",
              "      box-shadow: 0px 1px 3px 1px rgba(0, 0, 0, 0.15);\n",
              "      filter: drop-shadow(0px 1px 2px rgba(0, 0, 0, 0.3));\n",
              "      fill: #FFFFFF;\n",
              "    }\n",
              "  </style>\n",
              "\n",
              "      <script>\n",
              "        const buttonEl =\n",
              "          document.querySelector('#df-db2cf12d-eed9-4cad-ada8-0191006e7ea8 button.colab-df-convert');\n",
              "        buttonEl.style.display =\n",
              "          google.colab.kernel.accessAllowed ? 'block' : 'none';\n",
              "\n",
              "        async function convertToInteractive(key) {\n",
              "          const element = document.querySelector('#df-db2cf12d-eed9-4cad-ada8-0191006e7ea8');\n",
              "          const dataTable =\n",
              "            await google.colab.kernel.invokeFunction('convertToInteractive',\n",
              "                                                     [key], {});\n",
              "          if (!dataTable) return;\n",
              "\n",
              "          const docLinkHtml = 'Like what you see? Visit the ' +\n",
              "            '<a target=\"_blank\" href=https://colab.research.google.com/notebooks/data_table.ipynb>data table notebook</a>'\n",
              "            + ' to learn more about interactive tables.';\n",
              "          element.innerHTML = '';\n",
              "          dataTable['output_type'] = 'display_data';\n",
              "          await google.colab.output.renderOutput(dataTable, element);\n",
              "          const docLink = document.createElement('div');\n",
              "          docLink.innerHTML = docLinkHtml;\n",
              "          element.appendChild(docLink);\n",
              "        }\n",
              "      </script>\n",
              "    </div>\n",
              "  </div>\n",
              "  "
            ]
          },
          "metadata": {},
          "execution_count": 3
        }
      ]
    },
    {
      "cell_type": "code",
      "source": [
        "df.info()"
      ],
      "metadata": {
        "colab": {
          "base_uri": "https://localhost:8080/"
        },
        "id": "6L2J5CpmoqNq",
        "outputId": "765e5f7b-014f-4a39-e590-280b5ef697d5"
      },
      "execution_count": 4,
      "outputs": [
        {
          "output_type": "stream",
          "name": "stdout",
          "text": [
            "<class 'pandas.core.frame.DataFrame'>\n",
            "RangeIndex: 11162 entries, 0 to 11161\n",
            "Data columns (total 17 columns):\n",
            " #   Column     Non-Null Count  Dtype \n",
            "---  ------     --------------  ----- \n",
            " 0   age        11162 non-null  int64 \n",
            " 1   job        11162 non-null  object\n",
            " 2   marital    11162 non-null  object\n",
            " 3   education  11162 non-null  object\n",
            " 4   default    11162 non-null  object\n",
            " 5   balance    11162 non-null  int64 \n",
            " 6   housing    11162 non-null  object\n",
            " 7   loan       11162 non-null  object\n",
            " 8   contact    11162 non-null  object\n",
            " 9   day        11162 non-null  int64 \n",
            " 10  month      11162 non-null  object\n",
            " 11  duration   11162 non-null  int64 \n",
            " 12  campaign   11162 non-null  int64 \n",
            " 13  pdays      11162 non-null  int64 \n",
            " 14  previous   11162 non-null  int64 \n",
            " 15  poutcome   11162 non-null  object\n",
            " 16  deposit    11162 non-null  object\n",
            "dtypes: int64(7), object(10)\n",
            "memory usage: 1.4+ MB\n"
          ]
        }
      ]
    },
    {
      "cell_type": "code",
      "source": [
        "# Checking duplicates\n",
        "\n",
        "df.duplicated().sum()\n",
        "print(\"Duplicates\", (df.duplicated().sum()))"
      ],
      "metadata": {
        "colab": {
          "base_uri": "https://localhost:8080/"
        },
        "id": "01_mi8uWo8mW",
        "outputId": "125af26a-d93e-4d7c-a181-914de3b83356"
      },
      "execution_count": 5,
      "outputs": [
        {
          "output_type": "stream",
          "name": "stdout",
          "text": [
            "Duplicates 0\n"
          ]
        }
      ]
    },
    {
      "cell_type": "code",
      "source": [
        "#Checking for null values\n",
        "\n",
        "df.isnull().sum()"
      ],
      "metadata": {
        "colab": {
          "base_uri": "https://localhost:8080/"
        },
        "id": "SGUahIWxpAJU",
        "outputId": "99a5cbfa-a3be-4871-a9a3-86ef06b00d1b"
      },
      "execution_count": 6,
      "outputs": [
        {
          "output_type": "execute_result",
          "data": {
            "text/plain": [
              "age          0\n",
              "job          0\n",
              "marital      0\n",
              "education    0\n",
              "default      0\n",
              "balance      0\n",
              "housing      0\n",
              "loan         0\n",
              "contact      0\n",
              "day          0\n",
              "month        0\n",
              "duration     0\n",
              "campaign     0\n",
              "pdays        0\n",
              "previous     0\n",
              "poutcome     0\n",
              "deposit      0\n",
              "dtype: int64"
            ]
          },
          "metadata": {},
          "execution_count": 6
        }
      ]
    },
    {
      "cell_type": "code",
      "source": [
        "# Checking for inconsistencies\n",
        "\n",
        "# Get column names\n",
        "column_names = df.columns\n",
        "\n",
        "# Iterate each column\n",
        "for columns in column_names:\n",
        "    print(columns,df[columns].unique())"
      ],
      "metadata": {
        "id": "APWEGUKwpEGx",
        "outputId": "aa075778-e1d5-42ee-e1f1-c9afcd7e5127",
        "colab": {
          "base_uri": "https://localhost:8080/"
        }
      },
      "execution_count": 7,
      "outputs": [
        {
          "output_type": "stream",
          "name": "stdout",
          "text": [
            "age [59 56 41 55 54 42 60 37 28 38 30 29 46 31 35 32 49 43 26 40 33 23 48 45\n",
            " 36 52 53 39 57 51 44 24 50 27 34 47 25 58 61 68 75 22 69 66 85 72 90 67\n",
            " 71 21 74 65 62 83 70 76 77 19 73 63 20 78 95 64 79 82 18 86 84 87 92 81\n",
            " 80 93 88 89]\n",
            "job ['admin.' 'technician' 'services' 'management' 'retired' 'blue-collar'\n",
            " 'unemployed' 'entrepreneur' 'housemaid' 'unknown' 'self-employed'\n",
            " 'student']\n",
            "marital ['married' 'single' 'divorced']\n",
            "education ['secondary' 'tertiary' 'primary' 'unknown']\n",
            "default ['no' 'yes']\n",
            "balance [2343   45 1270 ... 1594 2593 -134]\n",
            "housing ['yes' 'no']\n",
            "loan ['no' 'yes']\n",
            "contact ['unknown' 'cellular' 'telephone']\n",
            "day [ 5  6  7  8  9 12 13 14 15 16 19 20 21 23 26 27 28 29 30  2  3  4 11 17\n",
            " 18 24  1 10 22 25 31]\n",
            "month ['may' 'jun' 'jul' 'aug' 'oct' 'nov' 'dec' 'jan' 'feb' 'mar' 'apr' 'sep']\n",
            "duration [1042 1467 1389 ... 1504  818 1812]\n",
            "campaign [ 1  2  3  4  6  5  8 11  9 10 15 12 14  7 24 13 17 29 21 20 16 32 19 25\n",
            " 22 43 18 41 63 27 30 26 23 28 33 31]\n",
            "pdays [ -1 166  91 147 170 150 171 126 182 110 198 174 175  27 128 100 177 167\n",
            " 122 183 195 133 178  34  10 163 184 154  99  93   2 242 272  76 160  90\n",
            " 196 246 238 203 268 189 267  92   9  88  85 210 257 261 270 106 199 112\n",
            "  41 294 231 239 302 135 307 222 138 323 141 320 264 316 315 256 146 328\n",
            "  74 148 327 341 145 266 234 345 318 325 274 343 260 305 344 254 180 340\n",
            "  82 181 278 153   4 349 334 176  87 269  86 169  83  79   6 259  13 161\n",
            " 350  84  80 164  22 296  66 263 333  17  89  78 286 337 364 188 342 363\n",
            " 352 295 353 356 288 367 366 359 347 370 284 300 306 361 287 301 355 371\n",
            " 292 360 358 346 357 368 312 179 329 298 372 374 375 291  95 109  94  98\n",
            " 186 101 187 321  40  96  21  35  97 285 103 212 293  81  38  28  67  60\n",
            " 120  55 113  71 119  72  20 391  50 207 105 314 211 140 104  65 395 399\n",
            "  49 389 386 412  62 229 385 156  63  64  69 394  70 185 102 190 461 116\n",
            " 422 457 430 192 462 403 191 459 397 197 173 271 428 392 193 474 475 477\n",
            " 130 283 157 476 131 132 129 134 114 121 107 115  58  57 143 208 335 149\n",
            " 139  52  75 515 111  56 194 520 213 351 273 162 378 279 200 201 310 275\n",
            " 127 165 309 313 216 209 282 202 436 433 142 172 281  48 276 297 280 446\n",
            " 558 616 561 553 555 262 265 384 388 152 390 322 205 326 478 339 155 421\n",
            " 223 626 426 236 206 348 595 311 648 304 521 369 449 398  53 258 479 237\n",
            " 425 376 224 227 225 144 586 450 424 776 251 460 683 158 529 377 415 244\n",
            " 407 458 532 481 445 535 784 491 440 455 277 470   1 435 437 728 414 518\n",
            " 308 828  31  43 761  29  44 579 466 125 504 427 749 365 769 469 587 792\n",
            " 854 842 603 444 232 690 137 442 541 550  73 439 420 168 243 387 204 503\n",
            " 124 290  77  14 221 409 782 332 330 804 551 230 405 319  37 123 417 490\n",
            " 463 362 805 544 472  33 495 253  36 299 324 235 401 117  68 774 228 317\n",
            " 255 336 233 486   5 778 771 245  42 338 354 373 772  59 247 331  61 381\n",
            " 108  15   8 241 136 159 250 217  12 826 594 303 151 404 717 289 252 651\n",
            " 214  24 701 118]\n",
            "previous [ 0  1  4  2  3 10  7  9  5 29  6 13 17  8 11 30 22 58 21 14 26 12 19 55\n",
            " 23 15 20 27 16 41 40 28 18 37]\n",
            "poutcome ['unknown' 'other' 'failure' 'success']\n",
            "deposit ['yes' 'no']\n"
          ]
        }
      ]
    },
    {
      "cell_type": "markdown",
      "source": [
        "### Validating Inconsistencies- Categorical"
      ],
      "metadata": {
        "id": "vjENWerVBUNR"
      }
    },
    {
      "cell_type": "code",
      "source": [
        "# Checking for inconsistencies for categorical data\n",
        "\n",
        "df_cat = df.select_dtypes(include=['object'])\n",
        "\n",
        "cat_names = df_cat.columns\n",
        "\n",
        "# Iterate each column\n",
        "\n",
        "for columns in cat_names:\n",
        "    print(columns,df[columns].unique())"
      ],
      "metadata": {
        "colab": {
          "base_uri": "https://localhost:8080/"
        },
        "id": "sohUZoHtBZDK",
        "outputId": "3f805ed3-9af0-4d24-c1c8-9f200b90ab6c"
      },
      "execution_count": 8,
      "outputs": [
        {
          "output_type": "stream",
          "name": "stdout",
          "text": [
            "job ['admin.' 'technician' 'services' 'management' 'retired' 'blue-collar'\n",
            " 'unemployed' 'entrepreneur' 'housemaid' 'unknown' 'self-employed'\n",
            " 'student']\n",
            "marital ['married' 'single' 'divorced']\n",
            "education ['secondary' 'tertiary' 'primary' 'unknown']\n",
            "default ['no' 'yes']\n",
            "housing ['yes' 'no']\n",
            "loan ['no' 'yes']\n",
            "contact ['unknown' 'cellular' 'telephone']\n",
            "month ['may' 'jun' 'jul' 'aug' 'oct' 'nov' 'dec' 'jan' 'feb' 'mar' 'apr' 'sep']\n",
            "poutcome ['unknown' 'other' 'failure' 'success']\n",
            "deposit ['yes' 'no']\n"
          ]
        }
      ]
    },
    {
      "cell_type": "code",
      "source": [
        "# Filtering job to verify unique values\n",
        "\n",
        "job = df['job'].value_counts()\n",
        "job"
      ],
      "metadata": {
        "colab": {
          "base_uri": "https://localhost:8080/"
        },
        "id": "-ICxc475FATu",
        "outputId": "b4c7c2a6-2ab5-4403-b192-6a0494a1eb4b"
      },
      "execution_count": 9,
      "outputs": [
        {
          "output_type": "execute_result",
          "data": {
            "text/plain": [
              "management       2566\n",
              "blue-collar      1944\n",
              "technician       1823\n",
              "admin.           1334\n",
              "services          923\n",
              "retired           778\n",
              "self-employed     405\n",
              "student           360\n",
              "unemployed        357\n",
              "entrepreneur      328\n",
              "housemaid         274\n",
              "unknown            70\n",
              "Name: job, dtype: int64"
            ]
          },
          "metadata": {},
          "execution_count": 9
        }
      ]
    },
    {
      "cell_type": "code",
      "source": [
        "# Filtering marital to verify unique values\n",
        "\n",
        "status = df['marital'].value_counts()\n",
        "status"
      ],
      "metadata": {
        "colab": {
          "base_uri": "https://localhost:8080/"
        },
        "id": "bBJFYFuqHGBi",
        "outputId": "583a5a9b-02fd-443b-a034-95b36fed4b97"
      },
      "execution_count": 10,
      "outputs": [
        {
          "output_type": "execute_result",
          "data": {
            "text/plain": [
              "married     6351\n",
              "single      3518\n",
              "divorced    1293\n",
              "Name: marital, dtype: int64"
            ]
          },
          "metadata": {},
          "execution_count": 10
        }
      ]
    },
    {
      "cell_type": "code",
      "source": [
        "# Filtering education to verify unique values\n",
        "\n",
        "edu = df['education'].value_counts()\n",
        "edu"
      ],
      "metadata": {
        "colab": {
          "base_uri": "https://localhost:8080/"
        },
        "id": "vRjBKB2oHhCn",
        "outputId": "ddc920a4-9533-46d2-ab59-1ea0612e2ce1"
      },
      "execution_count": 11,
      "outputs": [
        {
          "output_type": "execute_result",
          "data": {
            "text/plain": [
              "secondary    5476\n",
              "tertiary     3689\n",
              "primary      1500\n",
              "unknown       497\n",
              "Name: education, dtype: int64"
            ]
          },
          "metadata": {},
          "execution_count": 11
        }
      ]
    },
    {
      "cell_type": "code",
      "source": [
        "# Filtering contact to verify unique values\n",
        "\n",
        "con_type = df['contact'].value_counts()\n",
        "con_type"
      ],
      "metadata": {
        "colab": {
          "base_uri": "https://localhost:8080/"
        },
        "id": "R0XK7pveYa4z",
        "outputId": "08e826d3-bea9-4497-c308-da36009da9a3"
      },
      "execution_count": 12,
      "outputs": [
        {
          "output_type": "execute_result",
          "data": {
            "text/plain": [
              "cellular     8042\n",
              "unknown      2346\n",
              "telephone     774\n",
              "Name: contact, dtype: int64"
            ]
          },
          "metadata": {},
          "execution_count": 12
        }
      ]
    },
    {
      "cell_type": "code",
      "source": [
        "# Filtering poutcome to verify unique values\n",
        "\n",
        "p_outcome = df['poutcome'].value_counts()\n",
        "p_outcome"
      ],
      "metadata": {
        "colab": {
          "base_uri": "https://localhost:8080/"
        },
        "id": "UG3wJtMz0hna",
        "outputId": "e7533fba-8731-4c2c-a421-c1ad685bb7af"
      },
      "execution_count": 13,
      "outputs": [
        {
          "output_type": "execute_result",
          "data": {
            "text/plain": [
              "unknown    8326\n",
              "failure    1228\n",
              "success    1071\n",
              "other       537\n",
              "Name: poutcome, dtype: int64"
            ]
          },
          "metadata": {},
          "execution_count": 13
        }
      ]
    },
    {
      "cell_type": "markdown",
      "source": [
        "### Showing all the unknown entries to verify if it can or can't affect the dataset for presentation and training\n",
        "\n",
        "### The unknown entries are not entirely significant on each feature"
      ],
      "metadata": {
        "id": "cgyFWVJ7-iD7"
      }
    },
    {
      "cell_type": "markdown",
      "source": [
        "### Validating Inconsistencies- Numerical"
      ],
      "metadata": {
        "id": "SvRyBk8EBm9-"
      }
    },
    {
      "cell_type": "code",
      "source": [
        "# Checking for inconsistencies for numerical data\n",
        "\n",
        "df_num = df.select_dtypes(include=['int64','float64'])\n",
        "\n",
        "num_names = df_num.columns\n",
        "\n",
        "# Iterate each column\n",
        "\n",
        "for columns in num_names:\n",
        "    print(columns, df[columns].unique())"
      ],
      "metadata": {
        "colab": {
          "base_uri": "https://localhost:8080/"
        },
        "id": "-oj9xbkVB0Dw",
        "outputId": "30f0f968-5bab-4e99-dd37-defca8d70e67"
      },
      "execution_count": 14,
      "outputs": [
        {
          "output_type": "stream",
          "name": "stdout",
          "text": [
            "age [59 56 41 55 54 42 60 37 28 38 30 29 46 31 35 32 49 43 26 40 33 23 48 45\n",
            " 36 52 53 39 57 51 44 24 50 27 34 47 25 58 61 68 75 22 69 66 85 72 90 67\n",
            " 71 21 74 65 62 83 70 76 77 19 73 63 20 78 95 64 79 82 18 86 84 87 92 81\n",
            " 80 93 88 89]\n",
            "balance [2343   45 1270 ... 1594 2593 -134]\n",
            "day [ 5  6  7  8  9 12 13 14 15 16 19 20 21 23 26 27 28 29 30  2  3  4 11 17\n",
            " 18 24  1 10 22 25 31]\n",
            "duration [1042 1467 1389 ... 1504  818 1812]\n",
            "campaign [ 1  2  3  4  6  5  8 11  9 10 15 12 14  7 24 13 17 29 21 20 16 32 19 25\n",
            " 22 43 18 41 63 27 30 26 23 28 33 31]\n",
            "pdays [ -1 166  91 147 170 150 171 126 182 110 198 174 175  27 128 100 177 167\n",
            " 122 183 195 133 178  34  10 163 184 154  99  93   2 242 272  76 160  90\n",
            " 196 246 238 203 268 189 267  92   9  88  85 210 257 261 270 106 199 112\n",
            "  41 294 231 239 302 135 307 222 138 323 141 320 264 316 315 256 146 328\n",
            "  74 148 327 341 145 266 234 345 318 325 274 343 260 305 344 254 180 340\n",
            "  82 181 278 153   4 349 334 176  87 269  86 169  83  79   6 259  13 161\n",
            " 350  84  80 164  22 296  66 263 333  17  89  78 286 337 364 188 342 363\n",
            " 352 295 353 356 288 367 366 359 347 370 284 300 306 361 287 301 355 371\n",
            " 292 360 358 346 357 368 312 179 329 298 372 374 375 291  95 109  94  98\n",
            " 186 101 187 321  40  96  21  35  97 285 103 212 293  81  38  28  67  60\n",
            " 120  55 113  71 119  72  20 391  50 207 105 314 211 140 104  65 395 399\n",
            "  49 389 386 412  62 229 385 156  63  64  69 394  70 185 102 190 461 116\n",
            " 422 457 430 192 462 403 191 459 397 197 173 271 428 392 193 474 475 477\n",
            " 130 283 157 476 131 132 129 134 114 121 107 115  58  57 143 208 335 149\n",
            " 139  52  75 515 111  56 194 520 213 351 273 162 378 279 200 201 310 275\n",
            " 127 165 309 313 216 209 282 202 436 433 142 172 281  48 276 297 280 446\n",
            " 558 616 561 553 555 262 265 384 388 152 390 322 205 326 478 339 155 421\n",
            " 223 626 426 236 206 348 595 311 648 304 521 369 449 398  53 258 479 237\n",
            " 425 376 224 227 225 144 586 450 424 776 251 460 683 158 529 377 415 244\n",
            " 407 458 532 481 445 535 784 491 440 455 277 470   1 435 437 728 414 518\n",
            " 308 828  31  43 761  29  44 579 466 125 504 427 749 365 769 469 587 792\n",
            " 854 842 603 444 232 690 137 442 541 550  73 439 420 168 243 387 204 503\n",
            " 124 290  77  14 221 409 782 332 330 804 551 230 405 319  37 123 417 490\n",
            " 463 362 805 544 472  33 495 253  36 299 324 235 401 117  68 774 228 317\n",
            " 255 336 233 486   5 778 771 245  42 338 354 373 772  59 247 331  61 381\n",
            " 108  15   8 241 136 159 250 217  12 826 594 303 151 404 717 289 252 651\n",
            " 214  24 701 118]\n",
            "previous [ 0  1  4  2  3 10  7  9  5 29  6 13 17  8 11 30 22 58 21 14 26 12 19 55\n",
            " 23 15 20 27 16 41 40 28 18 37]\n"
          ]
        }
      ]
    },
    {
      "cell_type": "code",
      "source": [
        "# Filtering age to verify unique values\n",
        "\n",
        "age = df['age']\n",
        "age.value_counts().sort_values(ascending=False)"
      ],
      "metadata": {
        "colab": {
          "base_uri": "https://localhost:8080/"
        },
        "id": "PyJrZqEwCMPY",
        "outputId": "3868be43-8806-4fa3-da36-7e0899efbe71"
      },
      "execution_count": 15,
      "outputs": [
        {
          "output_type": "execute_result",
          "data": {
            "text/plain": [
              "31    496\n",
              "32    477\n",
              "34    466\n",
              "33    464\n",
              "35    461\n",
              "     ... \n",
              "92      2\n",
              "93      2\n",
              "88      2\n",
              "95      1\n",
              "89      1\n",
              "Name: age, Length: 76, dtype: int64"
            ]
          },
          "metadata": {},
          "execution_count": 15
        }
      ]
    },
    {
      "cell_type": "code",
      "source": [
        "# Checking min and max of age\n",
        "\n",
        "print(\"Minimum age in dataset\",age.min())\n",
        "print(\"Maximum age in dataset\",age.max())"
      ],
      "metadata": {
        "colab": {
          "base_uri": "https://localhost:8080/"
        },
        "id": "CAIKFbt5CmlU",
        "outputId": "923d79c9-482b-47aa-eb97-110857e202ce"
      },
      "execution_count": 16,
      "outputs": [
        {
          "output_type": "stream",
          "name": "stdout",
          "text": [
            "Minimum age in dataset 18\n",
            "Maximum age in dataset 95\n"
          ]
        }
      ]
    },
    {
      "cell_type": "code",
      "source": [
        "# Filtering balance to verify unique values\n",
        "\n",
        "bal = df['balance']\n",
        "bal.value_counts().sort_values(ascending=False)"
      ],
      "metadata": {
        "colab": {
          "base_uri": "https://localhost:8080/"
        },
        "id": "xvtnTa5rF6Ul",
        "outputId": "662a5242-b89d-488b-a4f6-834a1ef782e9"
      },
      "execution_count": 17,
      "outputs": [
        {
          "output_type": "execute_result",
          "data": {
            "text/plain": [
              " 0        774\n",
              " 1         39\n",
              " 3         35\n",
              " 2         34\n",
              " 4         29\n",
              "         ... \n",
              " 10655      1\n",
              " 4969       1\n",
              " 10721      1\n",
              " 6432       1\n",
              "-134        1\n",
              "Name: balance, Length: 3805, dtype: int64"
            ]
          },
          "metadata": {},
          "execution_count": 17
        }
      ]
    },
    {
      "cell_type": "code",
      "source": [
        "# Checking min and max of balance\n",
        "\n",
        "print(\"Minimum balance in dataset\",bal.min())\n",
        "print(\"Maximum balance in dataset\",bal.max())"
      ],
      "metadata": {
        "colab": {
          "base_uri": "https://localhost:8080/"
        },
        "id": "xrqRPqiRGES5",
        "outputId": "3766f2ce-5b8f-423c-a747-deec40cba8c6"
      },
      "execution_count": 18,
      "outputs": [
        {
          "output_type": "stream",
          "name": "stdout",
          "text": [
            "Minimum balance in dataset -6847\n",
            "Maximum balance in dataset 81204\n"
          ]
        }
      ]
    },
    {
      "cell_type": "code",
      "source": [
        "# Filtering duration to verify unique values\n",
        "\n",
        "dur = df['duration']\n",
        "dur.value_counts().sort_values(ascending=False)"
      ],
      "metadata": {
        "colab": {
          "base_uri": "https://localhost:8080/"
        },
        "id": "T4Eu5LQxIbGW",
        "outputId": "43913306-fd79-4e9d-cabc-6cd15294ebc6"
      },
      "execution_count": 19,
      "outputs": [
        {
          "output_type": "execute_result",
          "data": {
            "text/plain": [
              "97      39\n",
              "161     38\n",
              "158     37\n",
              "119     37\n",
              "150     37\n",
              "        ..\n",
              "1635     1\n",
              "1417     1\n",
              "1469     1\n",
              "1512     1\n",
              "1812     1\n",
              "Name: duration, Length: 1428, dtype: int64"
            ]
          },
          "metadata": {},
          "execution_count": 19
        }
      ]
    },
    {
      "cell_type": "code",
      "source": [
        "# Checking min and max of balance\n",
        "\n",
        "print(\"Minimum balance in dataset\",dur.min())\n",
        "print(\"Maximum balance in dataset\",dur.max())"
      ],
      "metadata": {
        "colab": {
          "base_uri": "https://localhost:8080/"
        },
        "id": "MupZo1glInHu",
        "outputId": "382882a0-98f4-4a9d-9a10-015b9b171cbe"
      },
      "execution_count": 20,
      "outputs": [
        {
          "output_type": "stream",
          "name": "stdout",
          "text": [
            "Minimum balance in dataset 2\n",
            "Maximum balance in dataset 3881\n"
          ]
        }
      ]
    },
    {
      "cell_type": "code",
      "source": [
        "# Showing statistics of the dataset\n",
        "\n",
        "df.describe(include='all')"
      ],
      "metadata": {
        "colab": {
          "base_uri": "https://localhost:8080/",
          "height": 438
        },
        "id": "28BcS__IpIkl",
        "outputId": "15b600d7-793a-471e-96ab-e20480c4b87b"
      },
      "execution_count": 21,
      "outputs": [
        {
          "output_type": "execute_result",
          "data": {
            "text/plain": [
              "                 age         job  marital  education default       balance  \\\n",
              "count   11162.000000       11162    11162      11162   11162  11162.000000   \n",
              "unique           NaN          12        3          4       2           NaN   \n",
              "top              NaN  management  married  secondary      no           NaN   \n",
              "freq             NaN        2566     6351       5476   10994           NaN   \n",
              "mean       41.231948         NaN      NaN        NaN     NaN   1528.538524   \n",
              "std        11.913369         NaN      NaN        NaN     NaN   3225.413326   \n",
              "min        18.000000         NaN      NaN        NaN     NaN  -6847.000000   \n",
              "25%        32.000000         NaN      NaN        NaN     NaN    122.000000   \n",
              "50%        39.000000         NaN      NaN        NaN     NaN    550.000000   \n",
              "75%        49.000000         NaN      NaN        NaN     NaN   1708.000000   \n",
              "max        95.000000         NaN      NaN        NaN     NaN  81204.000000   \n",
              "\n",
              "       housing   loan   contact           day  month      duration  \\\n",
              "count    11162  11162     11162  11162.000000  11162  11162.000000   \n",
              "unique       2      2         3           NaN     12           NaN   \n",
              "top         no     no  cellular           NaN    may           NaN   \n",
              "freq      5881   9702      8042           NaN   2824           NaN   \n",
              "mean       NaN    NaN       NaN     15.658036    NaN    371.993818   \n",
              "std        NaN    NaN       NaN      8.420740    NaN    347.128386   \n",
              "min        NaN    NaN       NaN      1.000000    NaN      2.000000   \n",
              "25%        NaN    NaN       NaN      8.000000    NaN    138.000000   \n",
              "50%        NaN    NaN       NaN     15.000000    NaN    255.000000   \n",
              "75%        NaN    NaN       NaN     22.000000    NaN    496.000000   \n",
              "max        NaN    NaN       NaN     31.000000    NaN   3881.000000   \n",
              "\n",
              "            campaign         pdays      previous poutcome deposit  \n",
              "count   11162.000000  11162.000000  11162.000000    11162   11162  \n",
              "unique           NaN           NaN           NaN        4       2  \n",
              "top              NaN           NaN           NaN  unknown      no  \n",
              "freq             NaN           NaN           NaN     8326    5873  \n",
              "mean        2.508421     51.330407      0.832557      NaN     NaN  \n",
              "std         2.722077    108.758282      2.292007      NaN     NaN  \n",
              "min         1.000000     -1.000000      0.000000      NaN     NaN  \n",
              "25%         1.000000     -1.000000      0.000000      NaN     NaN  \n",
              "50%         2.000000     -1.000000      0.000000      NaN     NaN  \n",
              "75%         3.000000     20.750000      1.000000      NaN     NaN  \n",
              "max        63.000000    854.000000     58.000000      NaN     NaN  "
            ],
            "text/html": [
              "\n",
              "  <div id=\"df-6fc9f520-9cf1-499d-b5c1-d141b8119531\">\n",
              "    <div class=\"colab-df-container\">\n",
              "      <div>\n",
              "<style scoped>\n",
              "    .dataframe tbody tr th:only-of-type {\n",
              "        vertical-align: middle;\n",
              "    }\n",
              "\n",
              "    .dataframe tbody tr th {\n",
              "        vertical-align: top;\n",
              "    }\n",
              "\n",
              "    .dataframe thead th {\n",
              "        text-align: right;\n",
              "    }\n",
              "</style>\n",
              "<table border=\"1\" class=\"dataframe\">\n",
              "  <thead>\n",
              "    <tr style=\"text-align: right;\">\n",
              "      <th></th>\n",
              "      <th>age</th>\n",
              "      <th>job</th>\n",
              "      <th>marital</th>\n",
              "      <th>education</th>\n",
              "      <th>default</th>\n",
              "      <th>balance</th>\n",
              "      <th>housing</th>\n",
              "      <th>loan</th>\n",
              "      <th>contact</th>\n",
              "      <th>day</th>\n",
              "      <th>month</th>\n",
              "      <th>duration</th>\n",
              "      <th>campaign</th>\n",
              "      <th>pdays</th>\n",
              "      <th>previous</th>\n",
              "      <th>poutcome</th>\n",
              "      <th>deposit</th>\n",
              "    </tr>\n",
              "  </thead>\n",
              "  <tbody>\n",
              "    <tr>\n",
              "      <th>count</th>\n",
              "      <td>11162.000000</td>\n",
              "      <td>11162</td>\n",
              "      <td>11162</td>\n",
              "      <td>11162</td>\n",
              "      <td>11162</td>\n",
              "      <td>11162.000000</td>\n",
              "      <td>11162</td>\n",
              "      <td>11162</td>\n",
              "      <td>11162</td>\n",
              "      <td>11162.000000</td>\n",
              "      <td>11162</td>\n",
              "      <td>11162.000000</td>\n",
              "      <td>11162.000000</td>\n",
              "      <td>11162.000000</td>\n",
              "      <td>11162.000000</td>\n",
              "      <td>11162</td>\n",
              "      <td>11162</td>\n",
              "    </tr>\n",
              "    <tr>\n",
              "      <th>unique</th>\n",
              "      <td>NaN</td>\n",
              "      <td>12</td>\n",
              "      <td>3</td>\n",
              "      <td>4</td>\n",
              "      <td>2</td>\n",
              "      <td>NaN</td>\n",
              "      <td>2</td>\n",
              "      <td>2</td>\n",
              "      <td>3</td>\n",
              "      <td>NaN</td>\n",
              "      <td>12</td>\n",
              "      <td>NaN</td>\n",
              "      <td>NaN</td>\n",
              "      <td>NaN</td>\n",
              "      <td>NaN</td>\n",
              "      <td>4</td>\n",
              "      <td>2</td>\n",
              "    </tr>\n",
              "    <tr>\n",
              "      <th>top</th>\n",
              "      <td>NaN</td>\n",
              "      <td>management</td>\n",
              "      <td>married</td>\n",
              "      <td>secondary</td>\n",
              "      <td>no</td>\n",
              "      <td>NaN</td>\n",
              "      <td>no</td>\n",
              "      <td>no</td>\n",
              "      <td>cellular</td>\n",
              "      <td>NaN</td>\n",
              "      <td>may</td>\n",
              "      <td>NaN</td>\n",
              "      <td>NaN</td>\n",
              "      <td>NaN</td>\n",
              "      <td>NaN</td>\n",
              "      <td>unknown</td>\n",
              "      <td>no</td>\n",
              "    </tr>\n",
              "    <tr>\n",
              "      <th>freq</th>\n",
              "      <td>NaN</td>\n",
              "      <td>2566</td>\n",
              "      <td>6351</td>\n",
              "      <td>5476</td>\n",
              "      <td>10994</td>\n",
              "      <td>NaN</td>\n",
              "      <td>5881</td>\n",
              "      <td>9702</td>\n",
              "      <td>8042</td>\n",
              "      <td>NaN</td>\n",
              "      <td>2824</td>\n",
              "      <td>NaN</td>\n",
              "      <td>NaN</td>\n",
              "      <td>NaN</td>\n",
              "      <td>NaN</td>\n",
              "      <td>8326</td>\n",
              "      <td>5873</td>\n",
              "    </tr>\n",
              "    <tr>\n",
              "      <th>mean</th>\n",
              "      <td>41.231948</td>\n",
              "      <td>NaN</td>\n",
              "      <td>NaN</td>\n",
              "      <td>NaN</td>\n",
              "      <td>NaN</td>\n",
              "      <td>1528.538524</td>\n",
              "      <td>NaN</td>\n",
              "      <td>NaN</td>\n",
              "      <td>NaN</td>\n",
              "      <td>15.658036</td>\n",
              "      <td>NaN</td>\n",
              "      <td>371.993818</td>\n",
              "      <td>2.508421</td>\n",
              "      <td>51.330407</td>\n",
              "      <td>0.832557</td>\n",
              "      <td>NaN</td>\n",
              "      <td>NaN</td>\n",
              "    </tr>\n",
              "    <tr>\n",
              "      <th>std</th>\n",
              "      <td>11.913369</td>\n",
              "      <td>NaN</td>\n",
              "      <td>NaN</td>\n",
              "      <td>NaN</td>\n",
              "      <td>NaN</td>\n",
              "      <td>3225.413326</td>\n",
              "      <td>NaN</td>\n",
              "      <td>NaN</td>\n",
              "      <td>NaN</td>\n",
              "      <td>8.420740</td>\n",
              "      <td>NaN</td>\n",
              "      <td>347.128386</td>\n",
              "      <td>2.722077</td>\n",
              "      <td>108.758282</td>\n",
              "      <td>2.292007</td>\n",
              "      <td>NaN</td>\n",
              "      <td>NaN</td>\n",
              "    </tr>\n",
              "    <tr>\n",
              "      <th>min</th>\n",
              "      <td>18.000000</td>\n",
              "      <td>NaN</td>\n",
              "      <td>NaN</td>\n",
              "      <td>NaN</td>\n",
              "      <td>NaN</td>\n",
              "      <td>-6847.000000</td>\n",
              "      <td>NaN</td>\n",
              "      <td>NaN</td>\n",
              "      <td>NaN</td>\n",
              "      <td>1.000000</td>\n",
              "      <td>NaN</td>\n",
              "      <td>2.000000</td>\n",
              "      <td>1.000000</td>\n",
              "      <td>-1.000000</td>\n",
              "      <td>0.000000</td>\n",
              "      <td>NaN</td>\n",
              "      <td>NaN</td>\n",
              "    </tr>\n",
              "    <tr>\n",
              "      <th>25%</th>\n",
              "      <td>32.000000</td>\n",
              "      <td>NaN</td>\n",
              "      <td>NaN</td>\n",
              "      <td>NaN</td>\n",
              "      <td>NaN</td>\n",
              "      <td>122.000000</td>\n",
              "      <td>NaN</td>\n",
              "      <td>NaN</td>\n",
              "      <td>NaN</td>\n",
              "      <td>8.000000</td>\n",
              "      <td>NaN</td>\n",
              "      <td>138.000000</td>\n",
              "      <td>1.000000</td>\n",
              "      <td>-1.000000</td>\n",
              "      <td>0.000000</td>\n",
              "      <td>NaN</td>\n",
              "      <td>NaN</td>\n",
              "    </tr>\n",
              "    <tr>\n",
              "      <th>50%</th>\n",
              "      <td>39.000000</td>\n",
              "      <td>NaN</td>\n",
              "      <td>NaN</td>\n",
              "      <td>NaN</td>\n",
              "      <td>NaN</td>\n",
              "      <td>550.000000</td>\n",
              "      <td>NaN</td>\n",
              "      <td>NaN</td>\n",
              "      <td>NaN</td>\n",
              "      <td>15.000000</td>\n",
              "      <td>NaN</td>\n",
              "      <td>255.000000</td>\n",
              "      <td>2.000000</td>\n",
              "      <td>-1.000000</td>\n",
              "      <td>0.000000</td>\n",
              "      <td>NaN</td>\n",
              "      <td>NaN</td>\n",
              "    </tr>\n",
              "    <tr>\n",
              "      <th>75%</th>\n",
              "      <td>49.000000</td>\n",
              "      <td>NaN</td>\n",
              "      <td>NaN</td>\n",
              "      <td>NaN</td>\n",
              "      <td>NaN</td>\n",
              "      <td>1708.000000</td>\n",
              "      <td>NaN</td>\n",
              "      <td>NaN</td>\n",
              "      <td>NaN</td>\n",
              "      <td>22.000000</td>\n",
              "      <td>NaN</td>\n",
              "      <td>496.000000</td>\n",
              "      <td>3.000000</td>\n",
              "      <td>20.750000</td>\n",
              "      <td>1.000000</td>\n",
              "      <td>NaN</td>\n",
              "      <td>NaN</td>\n",
              "    </tr>\n",
              "    <tr>\n",
              "      <th>max</th>\n",
              "      <td>95.000000</td>\n",
              "      <td>NaN</td>\n",
              "      <td>NaN</td>\n",
              "      <td>NaN</td>\n",
              "      <td>NaN</td>\n",
              "      <td>81204.000000</td>\n",
              "      <td>NaN</td>\n",
              "      <td>NaN</td>\n",
              "      <td>NaN</td>\n",
              "      <td>31.000000</td>\n",
              "      <td>NaN</td>\n",
              "      <td>3881.000000</td>\n",
              "      <td>63.000000</td>\n",
              "      <td>854.000000</td>\n",
              "      <td>58.000000</td>\n",
              "      <td>NaN</td>\n",
              "      <td>NaN</td>\n",
              "    </tr>\n",
              "  </tbody>\n",
              "</table>\n",
              "</div>\n",
              "      <button class=\"colab-df-convert\" onclick=\"convertToInteractive('df-6fc9f520-9cf1-499d-b5c1-d141b8119531')\"\n",
              "              title=\"Convert this dataframe to an interactive table.\"\n",
              "              style=\"display:none;\">\n",
              "        \n",
              "  <svg xmlns=\"http://www.w3.org/2000/svg\" height=\"24px\"viewBox=\"0 0 24 24\"\n",
              "       width=\"24px\">\n",
              "    <path d=\"M0 0h24v24H0V0z\" fill=\"none\"/>\n",
              "    <path d=\"M18.56 5.44l.94 2.06.94-2.06 2.06-.94-2.06-.94-.94-2.06-.94 2.06-2.06.94zm-11 1L8.5 8.5l.94-2.06 2.06-.94-2.06-.94L8.5 2.5l-.94 2.06-2.06.94zm10 10l.94 2.06.94-2.06 2.06-.94-2.06-.94-.94-2.06-.94 2.06-2.06.94z\"/><path d=\"M17.41 7.96l-1.37-1.37c-.4-.4-.92-.59-1.43-.59-.52 0-1.04.2-1.43.59L10.3 9.45l-7.72 7.72c-.78.78-.78 2.05 0 2.83L4 21.41c.39.39.9.59 1.41.59.51 0 1.02-.2 1.41-.59l7.78-7.78 2.81-2.81c.8-.78.8-2.07 0-2.86zM5.41 20L4 18.59l7.72-7.72 1.47 1.35L5.41 20z\"/>\n",
              "  </svg>\n",
              "      </button>\n",
              "      \n",
              "  <style>\n",
              "    .colab-df-container {\n",
              "      display:flex;\n",
              "      flex-wrap:wrap;\n",
              "      gap: 12px;\n",
              "    }\n",
              "\n",
              "    .colab-df-convert {\n",
              "      background-color: #E8F0FE;\n",
              "      border: none;\n",
              "      border-radius: 50%;\n",
              "      cursor: pointer;\n",
              "      display: none;\n",
              "      fill: #1967D2;\n",
              "      height: 32px;\n",
              "      padding: 0 0 0 0;\n",
              "      width: 32px;\n",
              "    }\n",
              "\n",
              "    .colab-df-convert:hover {\n",
              "      background-color: #E2EBFA;\n",
              "      box-shadow: 0px 1px 2px rgba(60, 64, 67, 0.3), 0px 1px 3px 1px rgba(60, 64, 67, 0.15);\n",
              "      fill: #174EA6;\n",
              "    }\n",
              "\n",
              "    [theme=dark] .colab-df-convert {\n",
              "      background-color: #3B4455;\n",
              "      fill: #D2E3FC;\n",
              "    }\n",
              "\n",
              "    [theme=dark] .colab-df-convert:hover {\n",
              "      background-color: #434B5C;\n",
              "      box-shadow: 0px 1px 3px 1px rgba(0, 0, 0, 0.15);\n",
              "      filter: drop-shadow(0px 1px 2px rgba(0, 0, 0, 0.3));\n",
              "      fill: #FFFFFF;\n",
              "    }\n",
              "  </style>\n",
              "\n",
              "      <script>\n",
              "        const buttonEl =\n",
              "          document.querySelector('#df-6fc9f520-9cf1-499d-b5c1-d141b8119531 button.colab-df-convert');\n",
              "        buttonEl.style.display =\n",
              "          google.colab.kernel.accessAllowed ? 'block' : 'none';\n",
              "\n",
              "        async function convertToInteractive(key) {\n",
              "          const element = document.querySelector('#df-6fc9f520-9cf1-499d-b5c1-d141b8119531');\n",
              "          const dataTable =\n",
              "            await google.colab.kernel.invokeFunction('convertToInteractive',\n",
              "                                                     [key], {});\n",
              "          if (!dataTable) return;\n",
              "\n",
              "          const docLinkHtml = 'Like what you see? Visit the ' +\n",
              "            '<a target=\"_blank\" href=https://colab.research.google.com/notebooks/data_table.ipynb>data table notebook</a>'\n",
              "            + ' to learn more about interactive tables.';\n",
              "          element.innerHTML = '';\n",
              "          dataTable['output_type'] = 'display_data';\n",
              "          await google.colab.output.renderOutput(dataTable, element);\n",
              "          const docLink = document.createElement('div');\n",
              "          docLink.innerHTML = docLinkHtml;\n",
              "          element.appendChild(docLink);\n",
              "        }\n",
              "      </script>\n",
              "    </div>\n",
              "  </div>\n",
              "  "
            ]
          },
          "metadata": {},
          "execution_count": 21
        }
      ]
    },
    {
      "cell_type": "markdown",
      "source": [
        "### Showing statistics for the mean, min and max of numerical features"
      ],
      "metadata": {
        "id": "WJW4gl6Q5Xzs"
      }
    },
    {
      "cell_type": "markdown",
      "source": [
        "## Exploratory Data Analysis "
      ],
      "metadata": {
        "id": "WjewIdSj5fHF"
      }
    },
    {
      "cell_type": "markdown",
      "source": [
        "### Showing univariate visuals for Categorical Features using Seaborn Library- sns.countplot"
      ],
      "metadata": {
        "id": "Bc6zA7Qx5o5l"
      }
    },
    {
      "cell_type": "code",
      "source": [
        "# Visual for Job Description\n",
        "\n",
        "plt.style.use('seaborn')\n",
        "\n",
        "sns.countplot(y=df['job']);"
      ],
      "metadata": {
        "id": "pJnnfsWj5yto",
        "outputId": "4273d83e-ce4e-4a2c-a075-2f72e1c89764",
        "colab": {
          "base_uri": "https://localhost:8080/",
          "height": 361
        }
      },
      "execution_count": 22,
      "outputs": [
        {
          "output_type": "display_data",
          "data": {
            "text/plain": [
              "<Figure size 576x396 with 1 Axes>"
            ],
            "image/png": "[encoded data removed]"
          },
          "metadata": {}
        }
      ]
    },
    {
      "cell_type": "code",
      "source": [
        "# Visual for Marital Status\n",
        "\n",
        "sns.countplot(df['marital']);"
      ],
      "metadata": {
        "id": "VG-Ws4557mHn",
        "outputId": "4766062b-27ea-4fb1-ed2d-2c83216d0824",
        "colab": {
          "base_uri": "https://localhost:8080/",
          "height": 416
        }
      },
      "execution_count": 23,
      "outputs": [
        {
          "output_type": "stream",
          "name": "stderr",
          "text": [
            "/usr/local/lib/python3.7/dist-packages/seaborn/_decorators.py:43: FutureWarning: Pass the following variable as a keyword arg: x. From version 0.12, the only valid positional argument will be `data`, and passing other arguments without an explicit keyword will result in an error or misinterpretation.\n",
            "  FutureWarning\n"
          ]
        },
        {
          "output_type": "display_data",
          "data": {
            "text/plain": [
              "<Figure size 576x396 with 1 Axes>"
            ],
            "image/png": "[encoded data removed]"
          },
          "metadata": {}
        }
      ]
    },
    {
      "cell_type": "code",
      "source": [
        "# Visual for Educational Attainment\n",
        "\n",
        "sns.countplot(df['education']);"
      ],
      "metadata": {
        "id": "teTroBzr7x9l",
        "outputId": "fd9e56d9-b9ab-4116-f598-015556b0ba9d",
        "colab": {
          "base_uri": "https://localhost:8080/",
          "height": 416
        }
      },
      "execution_count": 24,
      "outputs": [
        {
          "output_type": "stream",
          "name": "stderr",
          "text": [
            "/usr/local/lib/python3.7/dist-packages/seaborn/_decorators.py:43: FutureWarning: Pass the following variable as a keyword arg: x. From version 0.12, the only valid positional argument will be `data`, and passing other arguments without an explicit keyword will result in an error or misinterpretation.\n",
            "  FutureWarning\n"
          ]
        },
        {
          "output_type": "display_data",
          "data": {
            "text/plain": [
              "<Figure size 576x396 with 1 Axes>"
            ],
            "image/png": "[encoded data removed]"
          },
          "metadata": {}
        }
      ]
    },
    {
      "cell_type": "code",
      "source": [
        "# Visual for Credit status\n",
        "\n",
        "sns.countplot(df['default']);"
      ],
      "metadata": {
        "id": "-hoObhqw7Nkr",
        "outputId": "91d1673e-46da-43ad-9d1d-6d8478d1c7de",
        "colab": {
          "base_uri": "https://localhost:8080/",
          "height": 416
        }
      },
      "execution_count": 25,
      "outputs": [
        {
          "output_type": "stream",
          "name": "stderr",
          "text": [
            "/usr/local/lib/python3.7/dist-packages/seaborn/_decorators.py:43: FutureWarning: Pass the following variable as a keyword arg: x. From version 0.12, the only valid positional argument will be `data`, and passing other arguments without an explicit keyword will result in an error or misinterpretation.\n",
            "  FutureWarning\n"
          ]
        },
        {
          "output_type": "display_data",
          "data": {
            "text/plain": [
              "<Figure size 576x396 with 1 Axes>"
            ],
            "image/png": "[encoded data removed]"
          },
          "metadata": {}
        }
      ]
    },
    {
      "cell_type": "code",
      "source": [
        "# Visual for if Customer has Housing Loan\n",
        "\n",
        "sns.countplot(df['housing']);"
      ],
      "metadata": {
        "id": "DEL9EUc78BlP",
        "outputId": "481b1f24-d5bb-45f2-e8e8-c551f4a002b2",
        "colab": {
          "base_uri": "https://localhost:8080/",
          "height": 416
        }
      },
      "execution_count": 26,
      "outputs": [
        {
          "output_type": "stream",
          "name": "stderr",
          "text": [
            "/usr/local/lib/python3.7/dist-packages/seaborn/_decorators.py:43: FutureWarning: Pass the following variable as a keyword arg: x. From version 0.12, the only valid positional argument will be `data`, and passing other arguments without an explicit keyword will result in an error or misinterpretation.\n",
            "  FutureWarning\n"
          ]
        },
        {
          "output_type": "display_data",
          "data": {
            "text/plain": [
              "<Figure size 576x396 with 1 Axes>"
            ],
            "image/png": "[encoded data removed]"
          },
          "metadata": {}
        }
      ]
    },
    {
      "cell_type": "code",
      "source": [
        "# Visual for if Customer has Loan\n",
        "\n",
        "sns.countplot(df['loan']);"
      ],
      "metadata": {
        "id": "CaxKpht-8f_L",
        "outputId": "7b6587a9-83f5-4de6-e1d1-a242196dd31a",
        "colab": {
          "base_uri": "https://localhost:8080/",
          "height": 416
        }
      },
      "execution_count": 27,
      "outputs": [
        {
          "output_type": "stream",
          "name": "stderr",
          "text": [
            "/usr/local/lib/python3.7/dist-packages/seaborn/_decorators.py:43: FutureWarning: Pass the following variable as a keyword arg: x. From version 0.12, the only valid positional argument will be `data`, and passing other arguments without an explicit keyword will result in an error or misinterpretation.\n",
            "  FutureWarning\n"
          ]
        },
        {
          "output_type": "display_data",
          "data": {
            "text/plain": [
              "<Figure size 576x396 with 1 Axes>"
            ],
            "image/png": "[encoded data removed]"
          },
          "metadata": {}
        }
      ]
    },
    {
      "cell_type": "code",
      "source": [
        "# Visual for Type of Contact made\n",
        "\n",
        "sns.countplot(df['contact']);"
      ],
      "metadata": {
        "id": "gMdjaSmD80gE",
        "outputId": "e34d83f0-3651-4c85-c754-209f2ed29162",
        "colab": {
          "base_uri": "https://localhost:8080/",
          "height": 416
        }
      },
      "execution_count": 28,
      "outputs": [
        {
          "output_type": "stream",
          "name": "stderr",
          "text": [
            "/usr/local/lib/python3.7/dist-packages/seaborn/_decorators.py:43: FutureWarning: Pass the following variable as a keyword arg: x. From version 0.12, the only valid positional argument will be `data`, and passing other arguments without an explicit keyword will result in an error or misinterpretation.\n",
            "  FutureWarning\n"
          ]
        },
        {
          "output_type": "display_data",
          "data": {
            "text/plain": [
              "<Figure size 576x396 with 1 Axes>"
            ],
            "image/png": "[encoded data removed]"
          },
          "metadata": {}
        }
      ]
    },
    {
      "cell_type": "code",
      "source": [
        "# Visual for last contact month of the year\n",
        "\n",
        "sns.countplot(df['month']);\n"
      ],
      "metadata": {
        "id": "N3YLJsG54OK0",
        "outputId": "e35d73bb-a8e8-49d0-868e-c824ac541c69",
        "colab": {
          "base_uri": "https://localhost:8080/",
          "height": 416
        }
      },
      "execution_count": 29,
      "outputs": [
        {
          "output_type": "stream",
          "name": "stderr",
          "text": [
            "/usr/local/lib/python3.7/dist-packages/seaborn/_decorators.py:43: FutureWarning: Pass the following variable as a keyword arg: x. From version 0.12, the only valid positional argument will be `data`, and passing other arguments without an explicit keyword will result in an error or misinterpretation.\n",
            "  FutureWarning\n"
          ]
        },
        {
          "output_type": "display_data",
          "data": {
            "text/plain": [
              "<Figure size 576x396 with 1 Axes>"
            ],
            "image/png": "[encoded data removed]"
          },
          "metadata": {}
        }
      ]
    },
    {
      "cell_type": "code",
      "source": [
        "# Outcome of previous marketing campaign\n",
        "\n",
        "sns.countplot(df['poutcome']);\n"
      ],
      "metadata": {
        "id": "dKe3XXbS4z2F",
        "outputId": "47fc79a6-7919-494a-df4f-b2343a1bebd4",
        "colab": {
          "base_uri": "https://localhost:8080/",
          "height": 416
        }
      },
      "execution_count": 30,
      "outputs": [
        {
          "output_type": "stream",
          "name": "stderr",
          "text": [
            "/usr/local/lib/python3.7/dist-packages/seaborn/_decorators.py:43: FutureWarning: Pass the following variable as a keyword arg: x. From version 0.12, the only valid positional argument will be `data`, and passing other arguments without an explicit keyword will result in an error or misinterpretation.\n",
            "  FutureWarning\n"
          ]
        },
        {
          "output_type": "display_data",
          "data": {
            "text/plain": [
              "<Figure size 576x396 with 1 Axes>"
            ],
            "image/png": "[encoded data removed]"
          },
          "metadata": {}
        }
      ]
    },
    {
      "cell_type": "code",
      "source": [
        "# Visual for target feature- Subscription to Term Deposit\n",
        "\n",
        "sns.countplot(df['deposit']);"
      ],
      "metadata": {
        "id": "1ksE0P4D30GC",
        "outputId": "02f3f76e-42b9-4f19-e3d6-78a09898a49e",
        "colab": {
          "base_uri": "https://localhost:8080/",
          "height": 416
        }
      },
      "execution_count": 31,
      "outputs": [
        {
          "output_type": "stream",
          "name": "stderr",
          "text": [
            "/usr/local/lib/python3.7/dist-packages/seaborn/_decorators.py:43: FutureWarning: Pass the following variable as a keyword arg: x. From version 0.12, the only valid positional argument will be `data`, and passing other arguments without an explicit keyword will result in an error or misinterpretation.\n",
            "  FutureWarning\n"
          ]
        },
        {
          "output_type": "display_data",
          "data": {
            "text/plain": [
              "<Figure size 576x396 with 1 Axes>"
            ],
            "image/png": "[encoded data removed]"
          },
          "metadata": {}
        }
      ]
    },
    {
      "cell_type": "markdown",
      "source": [
        "### On the diagram we see that counts for 'yes' and 'no' values for 'deposit' are close, so we can use accuracy as a metric for a model, which predicts the campaign outcome."
      ],
      "metadata": {
        "id": "KYxibmUgVZEa"
      }
    },
    {
      "cell_type": "markdown",
      "source": [
        "### Showing univariate visuals for Numerical Features"
      ],
      "metadata": {
        "id": "76Jsjowh1Xnu"
      }
    },
    {
      "cell_type": "code",
      "source": [
        "sns.histplot(df['age'], binwidth=8, binrange=(0,90), kde=False);"
      ],
      "metadata": {
        "id": "cHAFIFNhotis",
        "outputId": "747b8343-d468-46e8-95ca-899a9aa37302",
        "colab": {
          "base_uri": "https://localhost:8080/",
          "height": 362
        }
      },
      "execution_count": 32,
      "outputs": [
        {
          "output_type": "display_data",
          "data": {
            "text/plain": [
              "<Figure size 576x396 with 1 Axes>"
            ],
            "image/png": "[encoded data removed]"
          },
          "metadata": {}
        }
      ]
    },
    {
      "cell_type": "code",
      "source": [
        "sns.stripplot(x=df['deposit'], y=df['balance']);"
      ],
      "metadata": {
        "id": "rsPEDSVusas0",
        "outputId": "9bccca84-6951-4727-aad6-3b85f6a95e25",
        "colab": {
          "base_uri": "https://localhost:8080/",
          "height": 361
        }
      },
      "execution_count": 33,
      "outputs": [
        {
          "output_type": "display_data",
          "data": {
            "text/plain": [
              "<Figure size 576x396 with 1 Axes>"
            ],
            "image/png": "[encoded data removed]"
          },
          "metadata": {}
        }
      ]
    },
    {
      "cell_type": "code",
      "source": [
        "sns.histplot(df['day'], binrange=(0,30), kde=False);"
      ],
      "metadata": {
        "id": "ViRdZhtRMb67",
        "outputId": "2bc2658d-d360-4f42-baef-784ebb7810d2",
        "colab": {
          "base_uri": "https://localhost:8080/",
          "height": 361
        }
      },
      "execution_count": 34,
      "outputs": [
        {
          "output_type": "display_data",
          "data": {
            "text/plain": [
              "<Figure size 576x396 with 1 Axes>"
            ],
            "image/png": "[encoded data removed]"
          },
          "metadata": {}
        }
      ]
    },
    {
      "cell_type": "code",
      "source": [
        "sns.histplot(df['duration'], binrange=(0,3000), kde=False);"
      ],
      "metadata": {
        "id": "YOU3R_sNsohF",
        "outputId": "59a3c5ad-6acb-48f6-e2a0-b8db56ab3942",
        "colab": {
          "base_uri": "https://localhost:8080/",
          "height": 361
        }
      },
      "execution_count": 35,
      "outputs": [
        {
          "output_type": "display_data",
          "data": {
            "text/plain": [
              "<Figure size 576x396 with 1 Axes>"
            ],
            "image/png": "[encoded data removed]"
          },
          "metadata": {}
        }
      ]
    },
    {
      "cell_type": "code",
      "source": [
        "sns.histplot(df['campaign'], binwidth=3, binrange=(0,60), kde=False);"
      ],
      "metadata": {
        "id": "24DnskrbCzZg",
        "outputId": "edb0168f-506e-4635-e8f6-39f6abd0ede2",
        "colab": {
          "base_uri": "https://localhost:8080/",
          "height": 361
        }
      },
      "execution_count": 36,
      "outputs": [
        {
          "output_type": "display_data",
          "data": {
            "text/plain": [
              "<Figure size 576x396 with 1 Axes>"
            ],
            "image/png": "[encoded data removed]"
          },
          "metadata": {}
        }
      ]
    },
    {
      "cell_type": "code",
      "source": [
        "sns.histplot(df['pdays'], binrange=(0,800), kde=False);"
      ],
      "metadata": {
        "id": "VmFZkpfduEN8",
        "outputId": "c9d681cb-e56a-4454-f420-f760577fde7d",
        "colab": {
          "base_uri": "https://localhost:8080/",
          "height": 361
        }
      },
      "execution_count": 37,
      "outputs": [
        {
          "output_type": "display_data",
          "data": {
            "text/plain": [
              "<Figure size 576x396 with 1 Axes>"
            ],
            "image/png": "[encoded data removed]"
          },
          "metadata": {}
        }
      ]
    },
    {
      "cell_type": "code",
      "source": [
        "sns.histplot(df['previous'], binrange=(0,60), kde=False);"
      ],
      "metadata": {
        "id": "RFrYnbO5Ka-1",
        "outputId": "e744d0e4-048c-445e-de4f-8a942b82034d",
        "colab": {
          "base_uri": "https://localhost:8080/",
          "height": 361
        }
      },
      "execution_count": 38,
      "outputs": [
        {
          "output_type": "display_data",
          "data": {
            "text/plain": [
              "<Figure size 576x396 with 1 Axes>"
            ],
            "image/png": "[encoded data removed]"
          },
          "metadata": {}
        }
      ]
    },
    {
      "cell_type": "markdown",
      "source": [
        "### Correlation Heatmap"
      ],
      "metadata": {
        "id": "cKYaCtXHyw3_"
      }
    },
    {
      "cell_type": "code",
      "source": [
        "# Producing heatmap\n",
        "\n",
        "corr = df.corr()\n",
        "sns.heatmap(corr, cmap = 'Greens');"
      ],
      "metadata": {
        "id": "piMaRvaJyvlW",
        "outputId": "bbf91df5-92f2-482c-fdf0-a1510c1ab46c",
        "colab": {
          "base_uri": "https://localhost:8080/",
          "height": 351
        }
      },
      "execution_count": 39,
      "outputs": [
        {
          "output_type": "display_data",
          "data": {
            "text/plain": [
              "<Figure size 576x396 with 2 Axes>"
            ],
            "image/png": "[encoded data removed]"
          },
          "metadata": {}
        }
      ]
    },
    {
      "cell_type": "code",
      "source": [
        "# Correlation Coefficients Heatmap using annot = True\n",
        "\n",
        "sns.heatmap(corr, cmap = 'Blues', annot = True);"
      ],
      "metadata": {
        "id": "L9-ModtgzBlp",
        "outputId": "4806efa3-b150-4fc6-8fa5-47542e30b52d",
        "colab": {
          "base_uri": "https://localhost:8080/",
          "height": 351
        }
      },
      "execution_count": 40,
      "outputs": [
        {
          "output_type": "display_data",
          "data": {
            "text/plain": [
              "<Figure size 576x396 with 2 Axes>"
            ],
            "image/png": "[encoded data removed]"
          },
          "metadata": {}
        }
      ]
    },
    {
      "cell_type": "code",
      "source": [
        "# Converting object to numeric values- assigning  no= 0 and yes= 1\n",
        "\n",
        "df['deposit'] = df['deposit'].replace({'no':0, 'yes':1})"
      ],
      "metadata": {
        "id": "xr1t3LmYz4iI"
      },
      "execution_count": 41,
      "outputs": []
    },
    {
      "cell_type": "code",
      "source": [
        "#barplots showing the frequency of each category separated by label\n",
        "\n",
        "plt.figure(figsize=[12,14])\n",
        "features=[\"marital\", \"education\", \"contact\", \"default\", \"housing\", \"loan\", \"poutcome\", \"month\"]\n",
        "n=1\n",
        "for f in features:\n",
        "    plt.subplot(4,2,n)\n",
        "    sns.countplot(x=f, hue='deposit', edgecolor=\"black\", alpha=0.7, data=df)\n",
        "    sns.despine()\n",
        "    plt.title(\"Countplot of {}  by deposit\".format(f))\n",
        "    n=n+1\n",
        "plt.tight_layout()\n",
        "plt.show()\n",
        "\n",
        "\n",
        "    \n",
        "plt.figure(figsize=[14,4])\n",
        "sns.countplot(x='job', hue='deposit',edgecolor=\"black\", alpha=0.7, data=df)\n",
        "sns.despine()\n",
        "plt.title(\"Countplot of job by deposit\")\n",
        "plt.show()\n",
        "\n",
        "# Code Source- https://www.kaggle.com/code/goldens/classification-review-with-python"
      ],
      "metadata": {
        "id": "nRIT0Dw3-xDe",
        "outputId": "bc28f27d-5615-48ab-e0b8-7a1279c4b687",
        "colab": {
          "base_uri": "https://localhost:8080/",
          "height": 1000
        }
      },
      "execution_count": 42,
      "outputs": [
        {
          "output_type": "display_data",
          "data": {
            "text/plain": [
              "<Figure size 864x1008 with 8 Axes>"
            ],
            "image/png": "[encoded data removed]"
          },
          "metadata": {}
        },
        {
          "output_type": "display_data",
          "data": {
            "text/plain": [
              "<Figure size 1008x288 with 1 Axes>"
            ],
            "image/png": "[encoded data removed]"
          },
          "metadata": {}
        }
      ]
    },
    {
      "cell_type": "markdown",
      "source": [
        "## Machine Learning"
      ],
      "metadata": {
        "id": "coe7HcMR0lKX"
      }
    },
    {
      "cell_type": "markdown",
      "source": [
        "### Pre-processing"
      ],
      "metadata": {
        "id": "FUMf-qvOzaxU"
      }
    },
    {
      "cell_type": "markdown",
      "source": [
        "#### Ordinal Encoding"
      ],
      "metadata": {
        "id": "AcUH1mvc14Mt"
      }
    },
    {
      "cell_type": "code",
      "source": [
        "# Checking Value Counts for education\n",
        "\n",
        "df['education'].value_counts()"
      ],
      "metadata": {
        "colab": {
          "base_uri": "https://localhost:8080/"
        },
        "id": "iLaUc4E-1-bl",
        "outputId": "a7fdfc4a-dc4e-4a39-ffdd-676c9d85b618"
      },
      "execution_count": 43,
      "outputs": [
        {
          "output_type": "execute_result",
          "data": {
            "text/plain": [
              "secondary    5476\n",
              "tertiary     3689\n",
              "primary      1500\n",
              "unknown       497\n",
              "Name: education, dtype: int64"
            ]
          },
          "metadata": {},
          "execution_count": 43
        }
      ]
    },
    {
      "cell_type": "code",
      "source": [
        "# Replacing education values\n",
        "\n",
        "df['education'].replace({'unknown':0, 'primary':1, 'secondary':2, 'tertiary':3}, inplace=True)\n",
        "df['education'].value_counts()"
      ],
      "metadata": {
        "colab": {
          "base_uri": "https://localhost:8080/"
        },
        "id": "K9UwNJDe2Fes",
        "outputId": "a1730e45-2efb-4443-cb46-2c453e6e1d6b"
      },
      "execution_count": 44,
      "outputs": [
        {
          "output_type": "execute_result",
          "data": {
            "text/plain": [
              "2    5476\n",
              "3    3689\n",
              "1    1500\n",
              "0     497\n",
              "Name: education, dtype: int64"
            ]
          },
          "metadata": {},
          "execution_count": 44
        }
      ]
    },
    {
      "cell_type": "code",
      "source": [
        "# Checking dataframe after conversion\n",
        "\n",
        "df.info()"
      ],
      "metadata": {
        "colab": {
          "base_uri": "https://localhost:8080/"
        },
        "id": "QEp0ymdL2c3M",
        "outputId": "8b4b7f67-7f06-4854-8692-fb9d6a19d3dd"
      },
      "execution_count": 45,
      "outputs": [
        {
          "output_type": "stream",
          "name": "stdout",
          "text": [
            "<class 'pandas.core.frame.DataFrame'>\n",
            "RangeIndex: 11162 entries, 0 to 11161\n",
            "Data columns (total 17 columns):\n",
            " #   Column     Non-Null Count  Dtype \n",
            "---  ------     --------------  ----- \n",
            " 0   age        11162 non-null  int64 \n",
            " 1   job        11162 non-null  object\n",
            " 2   marital    11162 non-null  object\n",
            " 3   education  11162 non-null  int64 \n",
            " 4   default    11162 non-null  object\n",
            " 5   balance    11162 non-null  int64 \n",
            " 6   housing    11162 non-null  object\n",
            " 7   loan       11162 non-null  object\n",
            " 8   contact    11162 non-null  object\n",
            " 9   day        11162 non-null  int64 \n",
            " 10  month      11162 non-null  object\n",
            " 11  duration   11162 non-null  int64 \n",
            " 12  campaign   11162 non-null  int64 \n",
            " 13  pdays      11162 non-null  int64 \n",
            " 14  previous   11162 non-null  int64 \n",
            " 15  poutcome   11162 non-null  object\n",
            " 16  deposit    11162 non-null  int64 \n",
            "dtypes: int64(9), object(8)\n",
            "memory usage: 1.4+ MB\n"
          ]
        }
      ]
    },
    {
      "cell_type": "markdown",
      "source": [
        "#### Splitting Dataset"
      ],
      "metadata": {
        "id": "pnVvjIrX3Be7"
      }
    },
    {
      "cell_type": "code",
      "source": [
        "# Data splitting\n",
        "\n",
        "y = df['deposit']\n",
        "X = df.drop(columns = 'deposit')\n",
        "\n",
        "# Train, Test split\n",
        "\n",
        "X_train, X_test, y_train, y_test = train_test_split(X, y, random_state= 42)"
      ],
      "metadata": {
        "id": "zPLt3ZBE3FHg"
      },
      "execution_count": 46,
      "outputs": []
    },
    {
      "cell_type": "markdown",
      "source": [
        "#### Pipeline"
      ],
      "metadata": {
        "id": "tUxBIQ6D3M-l"
      }
    },
    {
      "cell_type": "code",
      "source": [
        "# Selectors\n",
        "\n",
        "cat_selector = make_column_selector(dtype_include='object')\n",
        "num_selector = make_column_selector(dtype_include='number')"
      ],
      "metadata": {
        "id": "RhKkQZLq3MCc"
      },
      "execution_count": 47,
      "outputs": []
    },
    {
      "cell_type": "code",
      "source": [
        "# Select categorical columns\n",
        "\n",
        "cat_selector(X_train)"
      ],
      "metadata": {
        "colab": {
          "base_uri": "https://localhost:8080/"
        },
        "id": "JqLb0ywL3R3C",
        "outputId": "fd4abe22-8f4a-4f7f-c530-0ac563561cce"
      },
      "execution_count": 48,
      "outputs": [
        {
          "output_type": "execute_result",
          "data": {
            "text/plain": [
              "['job',\n",
              " 'marital',\n",
              " 'default',\n",
              " 'housing',\n",
              " 'loan',\n",
              " 'contact',\n",
              " 'month',\n",
              " 'poutcome']"
            ]
          },
          "metadata": {},
          "execution_count": 48
        }
      ]
    },
    {
      "cell_type": "code",
      "source": [
        "# Select numerical columns\n",
        "\n",
        "num_selector(X_train)"
      ],
      "metadata": {
        "colab": {
          "base_uri": "https://localhost:8080/"
        },
        "id": "Brth6VMh3wei",
        "outputId": "4630bb4b-e8fe-41f4-b8c7-739ea5e7f38a"
      },
      "execution_count": 49,
      "outputs": [
        {
          "output_type": "execute_result",
          "data": {
            "text/plain": [
              "['age',\n",
              " 'education',\n",
              " 'balance',\n",
              " 'day',\n",
              " 'duration',\n",
              " 'campaign',\n",
              " 'pdays',\n",
              " 'previous']"
            ]
          },
          "metadata": {},
          "execution_count": 49
        }
      ]
    },
    {
      "cell_type": "code",
      "source": [
        "# Instantiate Scaler\n",
        "\n",
        "scaler = StandardScaler()\n",
        "\n",
        "# One-hot encoder\n",
        "\n",
        "ohe = OneHotEncoder(handle_unknown='ignore', sparse=False)"
      ],
      "metadata": {
        "id": "iY_38d4b3VAX"
      },
      "execution_count": 50,
      "outputs": []
    },
    {
      "cell_type": "code",
      "source": [
        "# Numeric pipeline\n",
        "\n",
        "numeric_pipe = make_pipeline(scaler)\n",
        "numeric_pipe"
      ],
      "metadata": {
        "colab": {
          "base_uri": "https://localhost:8080/",
          "height": 92
        },
        "id": "hKC97BuS3aM3",
        "outputId": "9ca16651-c197-4a91-f86b-624faefcd3d9"
      },
      "execution_count": 51,
      "outputs": [
        {
          "output_type": "execute_result",
          "data": {
            "text/plain": [
              "Pipeline(steps=[('standardscaler', StandardScaler())])"
            ],
            "text/html": [
              "<style>#sk-d39bbba4-59a4-4701-aa26-956dbb23ad58 {color: black;background-color: white;}#sk-d39bbba4-59a4-4701-aa26-956dbb23ad58 pre{padding: 0;}#sk-d39bbba4-59a4-4701-aa26-956dbb23ad58 div.sk-toggleable {background-color: white;}#sk-d39bbba4-59a4-4701-aa26-956dbb23ad58 label.sk-toggleable__label {cursor: pointer;display: block;width: 100%;margin-bottom: 0;padding: 0.3em;box-sizing: border-box;text-align: center;}#sk-d39bbba4-59a4-4701-aa26-956dbb23ad58 label.sk-toggleable__label-arrow:before {content: \"▸\";float: left;margin-right: 0.25em;color: #696969;}#sk-d39bbba4-59a4-4701-aa26-956dbb23ad58 label.sk-toggleable__label-arrow:hover:before {color: black;}#sk-d39bbba4-59a4-4701-aa26-956dbb23ad58 div.sk-estimator:hover label.sk-toggleable__label-arrow:before {color: black;}#sk-d39bbba4-59a4-4701-aa26-956dbb23ad58 div.sk-toggleable__content {max-height: 0;max-width: 0;overflow: hidden;text-align: left;background-color: #f0f8ff;}#sk-d39bbba4-59a4-4701-aa26-956dbb23ad58 div.sk-toggleable__content pre {margin: 0.2em;color: black;border-radius: 0.25em;background-color: #f0f8ff;}#sk-d39bbba4-59a4-4701-aa26-956dbb23ad58 input.sk-toggleable__control:checked~div.sk-toggleable__content {max-height: 200px;max-width: 100%;overflow: auto;}#sk-d39bbba4-59a4-4701-aa26-956dbb23ad58 input.sk-toggleable__control:checked~label.sk-toggleable__label-arrow:before {content: \"▾\";}#sk-d39bbba4-59a4-4701-aa26-956dbb23ad58 div.sk-estimator input.sk-toggleable__control:checked~label.sk-toggleable__label {background-color: #d4ebff;}#sk-d39bbba4-59a4-4701-aa26-956dbb23ad58 div.sk-label input.sk-toggleable__control:checked~label.sk-toggleable__label {background-color: #d4ebff;}#sk-d39bbba4-59a4-4701-aa26-956dbb23ad58 input.sk-hidden--visually {border: 0;clip: rect(1px 1px 1px 1px);clip: rect(1px, 1px, 1px, 1px);height: 1px;margin: -1px;overflow: hidden;padding: 0;position: absolute;width: 1px;}#sk-d39bbba4-59a4-4701-aa26-956dbb23ad58 div.sk-estimator {font-family: monospace;background-color: #f0f8ff;border: 1px dotted black;border-radius: 0.25em;box-sizing: border-box;margin-bottom: 0.5em;}#sk-d39bbba4-59a4-4701-aa26-956dbb23ad58 div.sk-estimator:hover {background-color: #d4ebff;}#sk-d39bbba4-59a4-4701-aa26-956dbb23ad58 div.sk-parallel-item::after {content: \"\";width: 100%;border-bottom: 1px solid gray;flex-grow: 1;}#sk-d39bbba4-59a4-4701-aa26-956dbb23ad58 div.sk-label:hover label.sk-toggleable__label {background-color: #d4ebff;}#sk-d39bbba4-59a4-4701-aa26-956dbb23ad58 div.sk-serial::before {content: \"\";position: absolute;border-left: 1px solid gray;box-sizing: border-box;top: 2em;bottom: 0;left: 50%;}#sk-d39bbba4-59a4-4701-aa26-956dbb23ad58 div.sk-serial {display: flex;flex-direction: column;align-items: center;background-color: white;padding-right: 0.2em;padding-left: 0.2em;}#sk-d39bbba4-59a4-4701-aa26-956dbb23ad58 div.sk-item {z-index: 1;}#sk-d39bbba4-59a4-4701-aa26-956dbb23ad58 div.sk-parallel {display: flex;align-items: stretch;justify-content: center;background-color: white;}#sk-d39bbba4-59a4-4701-aa26-956dbb23ad58 div.sk-parallel::before {content: \"\";position: absolute;border-left: 1px solid gray;box-sizing: border-box;top: 2em;bottom: 0;left: 50%;}#sk-d39bbba4-59a4-4701-aa26-956dbb23ad58 div.sk-parallel-item {display: flex;flex-direction: column;position: relative;background-color: white;}#sk-d39bbba4-59a4-4701-aa26-956dbb23ad58 div.sk-parallel-item:first-child::after {align-self: flex-end;width: 50%;}#sk-d39bbba4-59a4-4701-aa26-956dbb23ad58 div.sk-parallel-item:last-child::after {align-self: flex-start;width: 50%;}#sk-d39bbba4-59a4-4701-aa26-956dbb23ad58 div.sk-parallel-item:only-child::after {width: 0;}#sk-d39bbba4-59a4-4701-aa26-956dbb23ad58 div.sk-dashed-wrapped {border: 1px dashed gray;margin: 0 0.4em 0.5em 0.4em;box-sizing: border-box;padding-bottom: 0.4em;background-color: white;position: relative;}#sk-d39bbba4-59a4-4701-aa26-956dbb23ad58 div.sk-label label {font-family: monospace;font-weight: bold;background-color: white;display: inline-block;line-height: 1.2em;}#sk-d39bbba4-59a4-4701-aa26-956dbb23ad58 div.sk-label-container {position: relative;z-index: 2;text-align: center;}#sk-d39bbba4-59a4-4701-aa26-956dbb23ad58 div.sk-container {/* jupyter's `normalize.less` sets `[hidden] { display: none; }` but bootstrap.min.css set `[hidden] { display: none !important; }` so we also need the `!important` here to be able to override the default hidden behavior on the sphinx rendered scikit-learn.org. See: https://github.com/scikit-learn/scikit-learn/issues/21755 */display: inline-block !important;position: relative;}#sk-d39bbba4-59a4-4701-aa26-956dbb23ad58 div.sk-text-repr-fallback {display: none;}</style><div id=\"sk-d39bbba4-59a4-4701-aa26-956dbb23ad58\" class=\"sk-top-container\"><div class=\"sk-text-repr-fallback\"><pre>Pipeline(steps=[(&#x27;standardscaler&#x27;, StandardScaler())])</pre><b>Please rerun this cell to show the HTML repr or trust the notebook.</b></div><div class=\"sk-container\" hidden><div class=\"sk-item sk-dashed-wrapped\"><div class=\"sk-label-container\"><div class=\"sk-label sk-toggleable\"><input class=\"sk-toggleable__control sk-hidden--visually\" id=\"f24c6298-ad80-429d-820c-ce395ac1c9c4\" type=\"checkbox\" ><label for=\"f24c6298-ad80-429d-820c-ce395ac1c9c4\" class=\"sk-toggleable__label sk-toggleable__label-arrow\">Pipeline</label><div class=\"sk-toggleable__content\"><pre>Pipeline(steps=[(&#x27;standardscaler&#x27;, StandardScaler())])</pre></div></div></div><div class=\"sk-serial\"><div class=\"sk-item\"><div class=\"sk-estimator sk-toggleable\"><input class=\"sk-toggleable__control sk-hidden--visually\" id=\"5be42456-2202-41d1-b91d-6bad73aa2762\" type=\"checkbox\" ><label for=\"5be42456-2202-41d1-b91d-6bad73aa2762\" class=\"sk-toggleable__label sk-toggleable__label-arrow\">StandardScaler</label><div class=\"sk-toggleable__content\"><pre>StandardScaler()</pre></div></div></div></div></div></div></div>"
            ]
          },
          "metadata": {},
          "execution_count": 51
        }
      ]
    },
    {
      "cell_type": "code",
      "source": [
        "# Categorical pipeline\n",
        "categorical_pipe = make_pipeline(ohe)\n",
        "categorical_pipe"
      ],
      "metadata": {
        "colab": {
          "base_uri": "https://localhost:8080/",
          "height": 92
        },
        "id": "jIbl-JqI3gML",
        "outputId": "186c91e6-6dd0-443e-df81-66fc65f245df"
      },
      "execution_count": 52,
      "outputs": [
        {
          "output_type": "execute_result",
          "data": {
            "text/plain": [
              "Pipeline(steps=[('onehotencoder',\n",
              "                 OneHotEncoder(handle_unknown='ignore', sparse=False))])"
            ],
            "text/html": [
              "<style>#sk-86d33c69-72d3-4c71-ad5b-86b1ebe80b58 {color: black;background-color: white;}#sk-86d33c69-72d3-4c71-ad5b-86b1ebe80b58 pre{padding: 0;}#sk-86d33c69-72d3-4c71-ad5b-86b1ebe80b58 div.sk-toggleable {background-color: white;}#sk-86d33c69-72d3-4c71-ad5b-86b1ebe80b58 label.sk-toggleable__label {cursor: pointer;display: block;width: 100%;margin-bottom: 0;padding: 0.3em;box-sizing: border-box;text-align: center;}#sk-86d33c69-72d3-4c71-ad5b-86b1ebe80b58 label.sk-toggleable__label-arrow:before {content: \"▸\";float: left;margin-right: 0.25em;color: #696969;}#sk-86d33c69-72d3-4c71-ad5b-86b1ebe80b58 label.sk-toggleable__label-arrow:hover:before {color: black;}#sk-86d33c69-72d3-4c71-ad5b-86b1ebe80b58 div.sk-estimator:hover label.sk-toggleable__label-arrow:before {color: black;}#sk-86d33c69-72d3-4c71-ad5b-86b1ebe80b58 div.sk-toggleable__content {max-height: 0;max-width: 0;overflow: hidden;text-align: left;background-color: #f0f8ff;}#sk-86d33c69-72d3-4c71-ad5b-86b1ebe80b58 div.sk-toggleable__content pre {margin: 0.2em;color: black;border-radius: 0.25em;background-color: #f0f8ff;}#sk-86d33c69-72d3-4c71-ad5b-86b1ebe80b58 input.sk-toggleable__control:checked~div.sk-toggleable__content {max-height: 200px;max-width: 100%;overflow: auto;}#sk-86d33c69-72d3-4c71-ad5b-86b1ebe80b58 input.sk-toggleable__control:checked~label.sk-toggleable__label-arrow:before {content: \"▾\";}#sk-86d33c69-72d3-4c71-ad5b-86b1ebe80b58 div.sk-estimator input.sk-toggleable__control:checked~label.sk-toggleable__label {background-color: #d4ebff;}#sk-86d33c69-72d3-4c71-ad5b-86b1ebe80b58 div.sk-label input.sk-toggleable__control:checked~label.sk-toggleable__label {background-color: #d4ebff;}#sk-86d33c69-72d3-4c71-ad5b-86b1ebe80b58 input.sk-hidden--visually {border: 0;clip: rect(1px 1px 1px 1px);clip: rect(1px, 1px, 1px, 1px);height: 1px;margin: -1px;overflow: hidden;padding: 0;position: absolute;width: 1px;}#sk-86d33c69-72d3-4c71-ad5b-86b1ebe80b58 div.sk-estimator {font-family: monospace;background-color: #f0f8ff;border: 1px dotted black;border-radius: 0.25em;box-sizing: border-box;margin-bottom: 0.5em;}#sk-86d33c69-72d3-4c71-ad5b-86b1ebe80b58 div.sk-estimator:hover {background-color: #d4ebff;}#sk-86d33c69-72d3-4c71-ad5b-86b1ebe80b58 div.sk-parallel-item::after {content: \"\";width: 100%;border-bottom: 1px solid gray;flex-grow: 1;}#sk-86d33c69-72d3-4c71-ad5b-86b1ebe80b58 div.sk-label:hover label.sk-toggleable__label {background-color: #d4ebff;}#sk-86d33c69-72d3-4c71-ad5b-86b1ebe80b58 div.sk-serial::before {content: \"\";position: absolute;border-left: 1px solid gray;box-sizing: border-box;top: 2em;bottom: 0;left: 50%;}#sk-86d33c69-72d3-4c71-ad5b-86b1ebe80b58 div.sk-serial {display: flex;flex-direction: column;align-items: center;background-color: white;padding-right: 0.2em;padding-left: 0.2em;}#sk-86d33c69-72d3-4c71-ad5b-86b1ebe80b58 div.sk-item {z-index: 1;}#sk-86d33c69-72d3-4c71-ad5b-86b1ebe80b58 div.sk-parallel {display: flex;align-items: stretch;justify-content: center;background-color: white;}#sk-86d33c69-72d3-4c71-ad5b-86b1ebe80b58 div.sk-parallel::before {content: \"\";position: absolute;border-left: 1px solid gray;box-sizing: border-box;top: 2em;bottom: 0;left: 50%;}#sk-86d33c69-72d3-4c71-ad5b-86b1ebe80b58 div.sk-parallel-item {display: flex;flex-direction: column;position: relative;background-color: white;}#sk-86d33c69-72d3-4c71-ad5b-86b1ebe80b58 div.sk-parallel-item:first-child::after {align-self: flex-end;width: 50%;}#sk-86d33c69-72d3-4c71-ad5b-86b1ebe80b58 div.sk-parallel-item:last-child::after {align-self: flex-start;width: 50%;}#sk-86d33c69-72d3-4c71-ad5b-86b1ebe80b58 div.sk-parallel-item:only-child::after {width: 0;}#sk-86d33c69-72d3-4c71-ad5b-86b1ebe80b58 div.sk-dashed-wrapped {border: 1px dashed gray;margin: 0 0.4em 0.5em 0.4em;box-sizing: border-box;padding-bottom: 0.4em;background-color: white;position: relative;}#sk-86d33c69-72d3-4c71-ad5b-86b1ebe80b58 div.sk-label label {font-family: monospace;font-weight: bold;background-color: white;display: inline-block;line-height: 1.2em;}#sk-86d33c69-72d3-4c71-ad5b-86b1ebe80b58 div.sk-label-container {position: relative;z-index: 2;text-align: center;}#sk-86d33c69-72d3-4c71-ad5b-86b1ebe80b58 div.sk-container {/* jupyter's `normalize.less` sets `[hidden] { display: none; }` but bootstrap.min.css set `[hidden] { display: none !important; }` so we also need the `!important` here to be able to override the default hidden behavior on the sphinx rendered scikit-learn.org. See: https://github.com/scikit-learn/scikit-learn/issues/21755 */display: inline-block !important;position: relative;}#sk-86d33c69-72d3-4c71-ad5b-86b1ebe80b58 div.sk-text-repr-fallback {display: none;}</style><div id=\"sk-86d33c69-72d3-4c71-ad5b-86b1ebe80b58\" class=\"sk-top-container\"><div class=\"sk-text-repr-fallback\"><pre>Pipeline(steps=[(&#x27;onehotencoder&#x27;,\n",
              "                 OneHotEncoder(handle_unknown=&#x27;ignore&#x27;, sparse=False))])</pre><b>Please rerun this cell to show the HTML repr or trust the notebook.</b></div><div class=\"sk-container\" hidden><div class=\"sk-item sk-dashed-wrapped\"><div class=\"sk-label-container\"><div class=\"sk-label sk-toggleable\"><input class=\"sk-toggleable__control sk-hidden--visually\" id=\"b90bfd5c-7bae-41e6-97a6-a585f5d648cf\" type=\"checkbox\" ><label for=\"b90bfd5c-7bae-41e6-97a6-a585f5d648cf\" class=\"sk-toggleable__label sk-toggleable__label-arrow\">Pipeline</label><div class=\"sk-toggleable__content\"><pre>Pipeline(steps=[(&#x27;onehotencoder&#x27;,\n",
              "                 OneHotEncoder(handle_unknown=&#x27;ignore&#x27;, sparse=False))])</pre></div></div></div><div class=\"sk-serial\"><div class=\"sk-item\"><div class=\"sk-estimator sk-toggleable\"><input class=\"sk-toggleable__control sk-hidden--visually\" id=\"b43128ad-8825-4d3f-94e4-1606ad6f587d\" type=\"checkbox\" ><label for=\"b43128ad-8825-4d3f-94e4-1606ad6f587d\" class=\"sk-toggleable__label sk-toggleable__label-arrow\">OneHotEncoder</label><div class=\"sk-toggleable__content\"><pre>OneHotEncoder(handle_unknown=&#x27;ignore&#x27;, sparse=False)</pre></div></div></div></div></div></div></div>"
            ]
          },
          "metadata": {},
          "execution_count": 52
        }
      ]
    },
    {
      "cell_type": "code",
      "source": [
        "# Tuples for Column Transformer\n",
        "number_tuple = (numeric_pipe, num_selector)\n",
        "category_tuple = (categorical_pipe, cat_selector)\n",
        "\n",
        "# ColumnTransformer\n",
        "preprocessor = make_column_transformer(number_tuple, category_tuple)\n",
        "preprocessor"
      ],
      "metadata": {
        "colab": {
          "base_uri": "https://localhost:8080/",
          "height": 118
        },
        "id": "JlyMjUF13mL1",
        "outputId": "30645675-3b56-4638-8612-07abff7af019"
      },
      "execution_count": 53,
      "outputs": [
        {
          "output_type": "execute_result",
          "data": {
            "text/plain": [
              "ColumnTransformer(transformers=[('pipeline-1',\n",
              "                                 Pipeline(steps=[('standardscaler',\n",
              "                                                  StandardScaler())]),\n",
              "                                 <sklearn.compose._column_transformer.make_column_selector object at 0x7f83b4320f50>),\n",
              "                                ('pipeline-2',\n",
              "                                 Pipeline(steps=[('onehotencoder',\n",
              "                                                  OneHotEncoder(handle_unknown='ignore',\n",
              "                                                                sparse=False))]),\n",
              "                                 <sklearn.compose._column_transformer.make_column_selector object at 0x7f83b43209d0>)])"
            ],
            "text/html": [
              "<style>#sk-47a25c52-3501-4411-938a-73c55293cd23 {color: black;background-color: white;}#sk-47a25c52-3501-4411-938a-73c55293cd23 pre{padding: 0;}#sk-47a25c52-3501-4411-938a-73c55293cd23 div.sk-toggleable {background-color: white;}#sk-47a25c52-3501-4411-938a-73c55293cd23 label.sk-toggleable__label {cursor: pointer;display: block;width: 100%;margin-bottom: 0;padding: 0.3em;box-sizing: border-box;text-align: center;}#sk-47a25c52-3501-4411-938a-73c55293cd23 label.sk-toggleable__label-arrow:before {content: \"▸\";float: left;margin-right: 0.25em;color: #696969;}#sk-47a25c52-3501-4411-938a-73c55293cd23 label.sk-toggleable__label-arrow:hover:before {color: black;}#sk-47a25c52-3501-4411-938a-73c55293cd23 div.sk-estimator:hover label.sk-toggleable__label-arrow:before {color: black;}#sk-47a25c52-3501-4411-938a-73c55293cd23 div.sk-toggleable__content {max-height: 0;max-width: 0;overflow: hidden;text-align: left;background-color: #f0f8ff;}#sk-47a25c52-3501-4411-938a-73c55293cd23 div.sk-toggleable__content pre {margin: 0.2em;color: black;border-radius: 0.25em;background-color: #f0f8ff;}#sk-47a25c52-3501-4411-938a-73c55293cd23 input.sk-toggleable__control:checked~div.sk-toggleable__content {max-height: 200px;max-width: 100%;overflow: auto;}#sk-47a25c52-3501-4411-938a-73c55293cd23 input.sk-toggleable__control:checked~label.sk-toggleable__label-arrow:before {content: \"▾\";}#sk-47a25c52-3501-4411-938a-73c55293cd23 div.sk-estimator input.sk-toggleable__control:checked~label.sk-toggleable__label {background-color: #d4ebff;}#sk-47a25c52-3501-4411-938a-73c55293cd23 div.sk-label input.sk-toggleable__control:checked~label.sk-toggleable__label {background-color: #d4ebff;}#sk-47a25c52-3501-4411-938a-73c55293cd23 input.sk-hidden--visually {border: 0;clip: rect(1px 1px 1px 1px);clip: rect(1px, 1px, 1px, 1px);height: 1px;margin: -1px;overflow: hidden;padding: 0;position: absolute;width: 1px;}#sk-47a25c52-3501-4411-938a-73c55293cd23 div.sk-estimator {font-family: monospace;background-color: #f0f8ff;border: 1px dotted black;border-radius: 0.25em;box-sizing: border-box;margin-bottom: 0.5em;}#sk-47a25c52-3501-4411-938a-73c55293cd23 div.sk-estimator:hover {background-color: #d4ebff;}#sk-47a25c52-3501-4411-938a-73c55293cd23 div.sk-parallel-item::after {content: \"\";width: 100%;border-bottom: 1px solid gray;flex-grow: 1;}#sk-47a25c52-3501-4411-938a-73c55293cd23 div.sk-label:hover label.sk-toggleable__label {background-color: #d4ebff;}#sk-47a25c52-3501-4411-938a-73c55293cd23 div.sk-serial::before {content: \"\";position: absolute;border-left: 1px solid gray;box-sizing: border-box;top: 2em;bottom: 0;left: 50%;}#sk-47a25c52-3501-4411-938a-73c55293cd23 div.sk-serial {display: flex;flex-direction: column;align-items: center;background-color: white;padding-right: 0.2em;padding-left: 0.2em;}#sk-47a25c52-3501-4411-938a-73c55293cd23 div.sk-item {z-index: 1;}#sk-47a25c52-3501-4411-938a-73c55293cd23 div.sk-parallel {display: flex;align-items: stretch;justify-content: center;background-color: white;}#sk-47a25c52-3501-4411-938a-73c55293cd23 div.sk-parallel::before {content: \"\";position: absolute;border-left: 1px solid gray;box-sizing: border-box;top: 2em;bottom: 0;left: 50%;}#sk-47a25c52-3501-4411-938a-73c55293cd23 div.sk-parallel-item {display: flex;flex-direction: column;position: relative;background-color: white;}#sk-47a25c52-3501-4411-938a-73c55293cd23 div.sk-parallel-item:first-child::after {align-self: flex-end;width: 50%;}#sk-47a25c52-3501-4411-938a-73c55293cd23 div.sk-parallel-item:last-child::after {align-self: flex-start;width: 50%;}#sk-47a25c52-3501-4411-938a-73c55293cd23 div.sk-parallel-item:only-child::after {width: 0;}#sk-47a25c52-3501-4411-938a-73c55293cd23 div.sk-dashed-wrapped {border: 1px dashed gray;margin: 0 0.4em 0.5em 0.4em;box-sizing: border-box;padding-bottom: 0.4em;background-color: white;position: relative;}#sk-47a25c52-3501-4411-938a-73c55293cd23 div.sk-label label {font-family: monospace;font-weight: bold;background-color: white;display: inline-block;line-height: 1.2em;}#sk-47a25c52-3501-4411-938a-73c55293cd23 div.sk-label-container {position: relative;z-index: 2;text-align: center;}#sk-47a25c52-3501-4411-938a-73c55293cd23 div.sk-container {/* jupyter's `normalize.less` sets `[hidden] { display: none; }` but bootstrap.min.css set `[hidden] { display: none !important; }` so we also need the `!important` here to be able to override the default hidden behavior on the sphinx rendered scikit-learn.org. See: https://github.com/scikit-learn/scikit-learn/issues/21755 */display: inline-block !important;position: relative;}#sk-47a25c52-3501-4411-938a-73c55293cd23 div.sk-text-repr-fallback {display: none;}</style><div id=\"sk-47a25c52-3501-4411-938a-73c55293cd23\" class=\"sk-top-container\"><div class=\"sk-text-repr-fallback\"><pre>ColumnTransformer(transformers=[(&#x27;pipeline-1&#x27;,\n",
              "                                 Pipeline(steps=[(&#x27;standardscaler&#x27;,\n",
              "                                                  StandardScaler())]),\n",
              "                                 &lt;sklearn.compose._column_transformer.make_column_selector object at 0x7f83b4320f50&gt;),\n",
              "                                (&#x27;pipeline-2&#x27;,\n",
              "                                 Pipeline(steps=[(&#x27;onehotencoder&#x27;,\n",
              "                                                  OneHotEncoder(handle_unknown=&#x27;ignore&#x27;,\n",
              "                                                                sparse=False))]),\n",
              "                                 &lt;sklearn.compose._column_transformer.make_column_selector object at 0x7f83b43209d0&gt;)])</pre><b>Please rerun this cell to show the HTML repr or trust the notebook.</b></div><div class=\"sk-container\" hidden><div class=\"sk-item sk-dashed-wrapped\"><div class=\"sk-label-container\"><div class=\"sk-label sk-toggleable\"><input class=\"sk-toggleable__control sk-hidden--visually\" id=\"62bab3fc-b5da-4a5d-b2f8-33a5ef97fd85\" type=\"checkbox\" ><label for=\"62bab3fc-b5da-4a5d-b2f8-33a5ef97fd85\" class=\"sk-toggleable__label sk-toggleable__label-arrow\">ColumnTransformer</label><div class=\"sk-toggleable__content\"><pre>ColumnTransformer(transformers=[(&#x27;pipeline-1&#x27;,\n",
              "                                 Pipeline(steps=[(&#x27;standardscaler&#x27;,\n",
              "                                                  StandardScaler())]),\n",
              "                                 &lt;sklearn.compose._column_transformer.make_column_selector object at 0x7f83b4320f50&gt;),\n",
              "                                (&#x27;pipeline-2&#x27;,\n",
              "                                 Pipeline(steps=[(&#x27;onehotencoder&#x27;,\n",
              "                                                  OneHotEncoder(handle_unknown=&#x27;ignore&#x27;,\n",
              "                                                                sparse=False))]),\n",
              "                                 &lt;sklearn.compose._column_transformer.make_column_selector object at 0x7f83b43209d0&gt;)])</pre></div></div></div><div class=\"sk-parallel\"><div class=\"sk-parallel-item\"><div class=\"sk-item\"><div class=\"sk-label-container\"><div class=\"sk-label sk-toggleable\"><input class=\"sk-toggleable__control sk-hidden--visually\" id=\"f47a3b41-f448-44fe-8616-ee74d75b1b15\" type=\"checkbox\" ><label for=\"f47a3b41-f448-44fe-8616-ee74d75b1b15\" class=\"sk-toggleable__label sk-toggleable__label-arrow\">pipeline-1</label><div class=\"sk-toggleable__content\"><pre>&lt;sklearn.compose._column_transformer.make_column_selector object at 0x7f83b4320f50&gt;</pre></div></div></div><div class=\"sk-serial\"><div class=\"sk-item\"><div class=\"sk-serial\"><div class=\"sk-item\"><div class=\"sk-estimator sk-toggleable\"><input class=\"sk-toggleable__control sk-hidden--visually\" id=\"ae331315-0725-45ff-8952-73b49b863d19\" type=\"checkbox\" ><label for=\"ae331315-0725-45ff-8952-73b49b863d19\" class=\"sk-toggleable__label sk-toggleable__label-arrow\">StandardScaler</label><div class=\"sk-toggleable__content\"><pre>StandardScaler()</pre></div></div></div></div></div></div></div></div><div class=\"sk-parallel-item\"><div class=\"sk-item\"><div class=\"sk-label-container\"><div class=\"sk-label sk-toggleable\"><input class=\"sk-toggleable__control sk-hidden--visually\" id=\"5860b5cd-79df-42e9-a3f0-a1d436236893\" type=\"checkbox\" ><label for=\"5860b5cd-79df-42e9-a3f0-a1d436236893\" class=\"sk-toggleable__label sk-toggleable__label-arrow\">pipeline-2</label><div class=\"sk-toggleable__content\"><pre>&lt;sklearn.compose._column_transformer.make_column_selector object at 0x7f83b43209d0&gt;</pre></div></div></div><div class=\"sk-serial\"><div class=\"sk-item\"><div class=\"sk-serial\"><div class=\"sk-item\"><div class=\"sk-estimator sk-toggleable\"><input class=\"sk-toggleable__control sk-hidden--visually\" id=\"46c0040a-2f0c-4947-8dcb-6de6fa58fa1d\" type=\"checkbox\" ><label for=\"46c0040a-2f0c-4947-8dcb-6de6fa58fa1d\" class=\"sk-toggleable__label sk-toggleable__label-arrow\">OneHotEncoder</label><div class=\"sk-toggleable__content\"><pre>OneHotEncoder(handle_unknown=&#x27;ignore&#x27;, sparse=False)</pre></div></div></div></div></div></div></div></div></div></div></div></div>"
            ]
          },
          "metadata": {},
          "execution_count": 53
        }
      ]
    },
    {
      "cell_type": "code",
      "source": [
        "# fit on train\n",
        "\n",
        "preprocessor.fit(X_train)"
      ],
      "metadata": {
        "colab": {
          "base_uri": "https://localhost:8080/",
          "height": 118
        },
        "id": "KsLKxgSN4AjP",
        "outputId": "860023a1-5f2f-429b-9d35-42eaf78d5c13"
      },
      "execution_count": 54,
      "outputs": [
        {
          "output_type": "execute_result",
          "data": {
            "text/plain": [
              "ColumnTransformer(transformers=[('pipeline-1',\n",
              "                                 Pipeline(steps=[('standardscaler',\n",
              "                                                  StandardScaler())]),\n",
              "                                 <sklearn.compose._column_transformer.make_column_selector object at 0x7f83b4320f50>),\n",
              "                                ('pipeline-2',\n",
              "                                 Pipeline(steps=[('onehotencoder',\n",
              "                                                  OneHotEncoder(handle_unknown='ignore',\n",
              "                                                                sparse=False))]),\n",
              "                                 <sklearn.compose._column_transformer.make_column_selector object at 0x7f83b43209d0>)])"
            ],
            "text/html": [
              "<style>#sk-7ec8bb79-a6a3-43fe-9045-d248cf98e00c {color: black;background-color: white;}#sk-7ec8bb79-a6a3-43fe-9045-d248cf98e00c pre{padding: 0;}#sk-7ec8bb79-a6a3-43fe-9045-d248cf98e00c div.sk-toggleable {background-color: white;}#sk-7ec8bb79-a6a3-43fe-9045-d248cf98e00c label.sk-toggleable__label {cursor: pointer;display: block;width: 100%;margin-bottom: 0;padding: 0.3em;box-sizing: border-box;text-align: center;}#sk-7ec8bb79-a6a3-43fe-9045-d248cf98e00c label.sk-toggleable__label-arrow:before {content: \"▸\";float: left;margin-right: 0.25em;color: #696969;}#sk-7ec8bb79-a6a3-43fe-9045-d248cf98e00c label.sk-toggleable__label-arrow:hover:before {color: black;}#sk-7ec8bb79-a6a3-43fe-9045-d248cf98e00c div.sk-estimator:hover label.sk-toggleable__label-arrow:before {color: black;}#sk-7ec8bb79-a6a3-43fe-9045-d248cf98e00c div.sk-toggleable__content {max-height: 0;max-width: 0;overflow: hidden;text-align: left;background-color: #f0f8ff;}#sk-7ec8bb79-a6a3-43fe-9045-d248cf98e00c div.sk-toggleable__content pre {margin: 0.2em;color: black;border-radius: 0.25em;background-color: #f0f8ff;}#sk-7ec8bb79-a6a3-43fe-9045-d248cf98e00c input.sk-toggleable__control:checked~div.sk-toggleable__content {max-height: 200px;max-width: 100%;overflow: auto;}#sk-7ec8bb79-a6a3-43fe-9045-d248cf98e00c input.sk-toggleable__control:checked~label.sk-toggleable__label-arrow:before {content: \"▾\";}#sk-7ec8bb79-a6a3-43fe-9045-d248cf98e00c div.sk-estimator input.sk-toggleable__control:checked~label.sk-toggleable__label {background-color: #d4ebff;}#sk-7ec8bb79-a6a3-43fe-9045-d248cf98e00c div.sk-label input.sk-toggleable__control:checked~label.sk-toggleable__label {background-color: #d4ebff;}#sk-7ec8bb79-a6a3-43fe-9045-d248cf98e00c input.sk-hidden--visually {border: 0;clip: rect(1px 1px 1px 1px);clip: rect(1px, 1px, 1px, 1px);height: 1px;margin: -1px;overflow: hidden;padding: 0;position: absolute;width: 1px;}#sk-7ec8bb79-a6a3-43fe-9045-d248cf98e00c div.sk-estimator {font-family: monospace;background-color: #f0f8ff;border: 1px dotted black;border-radius: 0.25em;box-sizing: border-box;margin-bottom: 0.5em;}#sk-7ec8bb79-a6a3-43fe-9045-d248cf98e00c div.sk-estimator:hover {background-color: #d4ebff;}#sk-7ec8bb79-a6a3-43fe-9045-d248cf98e00c div.sk-parallel-item::after {content: \"\";width: 100%;border-bottom: 1px solid gray;flex-grow: 1;}#sk-7ec8bb79-a6a3-43fe-9045-d248cf98e00c div.sk-label:hover label.sk-toggleable__label {background-color: #d4ebff;}#sk-7ec8bb79-a6a3-43fe-9045-d248cf98e00c div.sk-serial::before {content: \"\";position: absolute;border-left: 1px solid gray;box-sizing: border-box;top: 2em;bottom: 0;left: 50%;}#sk-7ec8bb79-a6a3-43fe-9045-d248cf98e00c div.sk-serial {display: flex;flex-direction: column;align-items: center;background-color: white;padding-right: 0.2em;padding-left: 0.2em;}#sk-7ec8bb79-a6a3-43fe-9045-d248cf98e00c div.sk-item {z-index: 1;}#sk-7ec8bb79-a6a3-43fe-9045-d248cf98e00c div.sk-parallel {display: flex;align-items: stretch;justify-content: center;background-color: white;}#sk-7ec8bb79-a6a3-43fe-9045-d248cf98e00c div.sk-parallel::before {content: \"\";position: absolute;border-left: 1px solid gray;box-sizing: border-box;top: 2em;bottom: 0;left: 50%;}#sk-7ec8bb79-a6a3-43fe-9045-d248cf98e00c div.sk-parallel-item {display: flex;flex-direction: column;position: relative;background-color: white;}#sk-7ec8bb79-a6a3-43fe-9045-d248cf98e00c div.sk-parallel-item:first-child::after {align-self: flex-end;width: 50%;}#sk-7ec8bb79-a6a3-43fe-9045-d248cf98e00c div.sk-parallel-item:last-child::after {align-self: flex-start;width: 50%;}#sk-7ec8bb79-a6a3-43fe-9045-d248cf98e00c div.sk-parallel-item:only-child::after {width: 0;}#sk-7ec8bb79-a6a3-43fe-9045-d248cf98e00c div.sk-dashed-wrapped {border: 1px dashed gray;margin: 0 0.4em 0.5em 0.4em;box-sizing: border-box;padding-bottom: 0.4em;background-color: white;position: relative;}#sk-7ec8bb79-a6a3-43fe-9045-d248cf98e00c div.sk-label label {font-family: monospace;font-weight: bold;background-color: white;display: inline-block;line-height: 1.2em;}#sk-7ec8bb79-a6a3-43fe-9045-d248cf98e00c div.sk-label-container {position: relative;z-index: 2;text-align: center;}#sk-7ec8bb79-a6a3-43fe-9045-d248cf98e00c div.sk-container {/* jupyter's `normalize.less` sets `[hidden] { display: none; }` but bootstrap.min.css set `[hidden] { display: none !important; }` so we also need the `!important` here to be able to override the default hidden behavior on the sphinx rendered scikit-learn.org. See: https://github.com/scikit-learn/scikit-learn/issues/21755 */display: inline-block !important;position: relative;}#sk-7ec8bb79-a6a3-43fe-9045-d248cf98e00c div.sk-text-repr-fallback {display: none;}</style><div id=\"sk-7ec8bb79-a6a3-43fe-9045-d248cf98e00c\" class=\"sk-top-container\"><div class=\"sk-text-repr-fallback\"><pre>ColumnTransformer(transformers=[(&#x27;pipeline-1&#x27;,\n",
              "                                 Pipeline(steps=[(&#x27;standardscaler&#x27;,\n",
              "                                                  StandardScaler())]),\n",
              "                                 &lt;sklearn.compose._column_transformer.make_column_selector object at 0x7f83b4320f50&gt;),\n",
              "                                (&#x27;pipeline-2&#x27;,\n",
              "                                 Pipeline(steps=[(&#x27;onehotencoder&#x27;,\n",
              "                                                  OneHotEncoder(handle_unknown=&#x27;ignore&#x27;,\n",
              "                                                                sparse=False))]),\n",
              "                                 &lt;sklearn.compose._column_transformer.make_column_selector object at 0x7f83b43209d0&gt;)])</pre><b>Please rerun this cell to show the HTML repr or trust the notebook.</b></div><div class=\"sk-container\" hidden><div class=\"sk-item sk-dashed-wrapped\"><div class=\"sk-label-container\"><div class=\"sk-label sk-toggleable\"><input class=\"sk-toggleable__control sk-hidden--visually\" id=\"bf0c020c-56e4-47fb-a223-eee628b857f5\" type=\"checkbox\" ><label for=\"bf0c020c-56e4-47fb-a223-eee628b857f5\" class=\"sk-toggleable__label sk-toggleable__label-arrow\">ColumnTransformer</label><div class=\"sk-toggleable__content\"><pre>ColumnTransformer(transformers=[(&#x27;pipeline-1&#x27;,\n",
              "                                 Pipeline(steps=[(&#x27;standardscaler&#x27;,\n",
              "                                                  StandardScaler())]),\n",
              "                                 &lt;sklearn.compose._column_transformer.make_column_selector object at 0x7f83b4320f50&gt;),\n",
              "                                (&#x27;pipeline-2&#x27;,\n",
              "                                 Pipeline(steps=[(&#x27;onehotencoder&#x27;,\n",
              "                                                  OneHotEncoder(handle_unknown=&#x27;ignore&#x27;,\n",
              "                                                                sparse=False))]),\n",
              "                                 &lt;sklearn.compose._column_transformer.make_column_selector object at 0x7f83b43209d0&gt;)])</pre></div></div></div><div class=\"sk-parallel\"><div class=\"sk-parallel-item\"><div class=\"sk-item\"><div class=\"sk-label-container\"><div class=\"sk-label sk-toggleable\"><input class=\"sk-toggleable__control sk-hidden--visually\" id=\"c7176e7f-1e5c-46e6-b0da-8053ff649daa\" type=\"checkbox\" ><label for=\"c7176e7f-1e5c-46e6-b0da-8053ff649daa\" class=\"sk-toggleable__label sk-toggleable__label-arrow\">pipeline-1</label><div class=\"sk-toggleable__content\"><pre>&lt;sklearn.compose._column_transformer.make_column_selector object at 0x7f83b4320f50&gt;</pre></div></div></div><div class=\"sk-serial\"><div class=\"sk-item\"><div class=\"sk-serial\"><div class=\"sk-item\"><div class=\"sk-estimator sk-toggleable\"><input class=\"sk-toggleable__control sk-hidden--visually\" id=\"7281c014-7983-4c87-a1e6-8e6c0efe2c8c\" type=\"checkbox\" ><label for=\"7281c014-7983-4c87-a1e6-8e6c0efe2c8c\" class=\"sk-toggleable__label sk-toggleable__label-arrow\">StandardScaler</label><div class=\"sk-toggleable__content\"><pre>StandardScaler()</pre></div></div></div></div></div></div></div></div><div class=\"sk-parallel-item\"><div class=\"sk-item\"><div class=\"sk-label-container\"><div class=\"sk-label sk-toggleable\"><input class=\"sk-toggleable__control sk-hidden--visually\" id=\"61309bdb-7586-42fb-b8df-6d2581d6c729\" type=\"checkbox\" ><label for=\"61309bdb-7586-42fb-b8df-6d2581d6c729\" class=\"sk-toggleable__label sk-toggleable__label-arrow\">pipeline-2</label><div class=\"sk-toggleable__content\"><pre>&lt;sklearn.compose._column_transformer.make_column_selector object at 0x7f83b43209d0&gt;</pre></div></div></div><div class=\"sk-serial\"><div class=\"sk-item\"><div class=\"sk-serial\"><div class=\"sk-item\"><div class=\"sk-estimator sk-toggleable\"><input class=\"sk-toggleable__control sk-hidden--visually\" id=\"452d49ef-ead9-408f-8bdc-9a5ca8f46f2a\" type=\"checkbox\" ><label for=\"452d49ef-ead9-408f-8bdc-9a5ca8f46f2a\" class=\"sk-toggleable__label sk-toggleable__label-arrow\">OneHotEncoder</label><div class=\"sk-toggleable__content\"><pre>OneHotEncoder(handle_unknown=&#x27;ignore&#x27;, sparse=False)</pre></div></div></div></div></div></div></div></div></div></div></div></div>"
            ]
          },
          "metadata": {},
          "execution_count": 54
        }
      ]
    },
    {
      "cell_type": "code",
      "source": [
        "# transform train and test\n",
        "\n",
        "X_train_processed = preprocessor.transform(X_train)\n",
        "X_test_processed = preprocessor.transform(X_test)"
      ],
      "metadata": {
        "id": "qfvy7TPl4EaP"
      },
      "execution_count": 55,
      "outputs": []
    },
    {
      "cell_type": "markdown",
      "source": [
        "### Create a Model\n"
      ],
      "metadata": {
        "id": "xgUx38cC5XUS"
      }
    },
    {
      "cell_type": "markdown",
      "source": [
        "#### Decision Tree Classifier"
      ],
      "metadata": {
        "id": "euHW_VOij7jU"
      }
    },
    {
      "cell_type": "code",
      "source": [
        "# Make an instance of the model\n",
        "\n",
        "dec_tree = DecisionTreeClassifier(random_state = 42)"
      ],
      "metadata": {
        "id": "N89qoolY5a82"
      },
      "execution_count": 56,
      "outputs": []
    },
    {
      "cell_type": "code",
      "source": [
        "# Training model\n",
        "\n",
        "dec_tree.fit(X_train_processed, y_train)"
      ],
      "metadata": {
        "colab": {
          "base_uri": "https://localhost:8080/",
          "height": 75
        },
        "id": "lHI5uOu45hVH",
        "outputId": "02b362f4-d41f-4585-d677-868b80d67177"
      },
      "execution_count": 57,
      "outputs": [
        {
          "output_type": "execute_result",
          "data": {
            "text/plain": [
              "DecisionTreeClassifier(random_state=42)"
            ],
            "text/html": [
              "<style>#sk-919d9411-1be1-48aa-a3d2-035ac48cbd94 {color: black;background-color: white;}#sk-919d9411-1be1-48aa-a3d2-035ac48cbd94 pre{padding: 0;}#sk-919d9411-1be1-48aa-a3d2-035ac48cbd94 div.sk-toggleable {background-color: white;}#sk-919d9411-1be1-48aa-a3d2-035ac48cbd94 label.sk-toggleable__label {cursor: pointer;display: block;width: 100%;margin-bottom: 0;padding: 0.3em;box-sizing: border-box;text-align: center;}#sk-919d9411-1be1-48aa-a3d2-035ac48cbd94 label.sk-toggleable__label-arrow:before {content: \"▸\";float: left;margin-right: 0.25em;color: #696969;}#sk-919d9411-1be1-48aa-a3d2-035ac48cbd94 label.sk-toggleable__label-arrow:hover:before {color: black;}#sk-919d9411-1be1-48aa-a3d2-035ac48cbd94 div.sk-estimator:hover label.sk-toggleable__label-arrow:before {color: black;}#sk-919d9411-1be1-48aa-a3d2-035ac48cbd94 div.sk-toggleable__content {max-height: 0;max-width: 0;overflow: hidden;text-align: left;background-color: #f0f8ff;}#sk-919d9411-1be1-48aa-a3d2-035ac48cbd94 div.sk-toggleable__content pre {margin: 0.2em;color: black;border-radius: 0.25em;background-color: #f0f8ff;}#sk-919d9411-1be1-48aa-a3d2-035ac48cbd94 input.sk-toggleable__control:checked~div.sk-toggleable__content {max-height: 200px;max-width: 100%;overflow: auto;}#sk-919d9411-1be1-48aa-a3d2-035ac48cbd94 input.sk-toggleable__control:checked~label.sk-toggleable__label-arrow:before {content: \"▾\";}#sk-919d9411-1be1-48aa-a3d2-035ac48cbd94 div.sk-estimator input.sk-toggleable__control:checked~label.sk-toggleable__label {background-color: #d4ebff;}#sk-919d9411-1be1-48aa-a3d2-035ac48cbd94 div.sk-label input.sk-toggleable__control:checked~label.sk-toggleable__label {background-color: #d4ebff;}#sk-919d9411-1be1-48aa-a3d2-035ac48cbd94 input.sk-hidden--visually {border: 0;clip: rect(1px 1px 1px 1px);clip: rect(1px, 1px, 1px, 1px);height: 1px;margin: -1px;overflow: hidden;padding: 0;position: absolute;width: 1px;}#sk-919d9411-1be1-48aa-a3d2-035ac48cbd94 div.sk-estimator {font-family: monospace;background-color: #f0f8ff;border: 1px dotted black;border-radius: 0.25em;box-sizing: border-box;margin-bottom: 0.5em;}#sk-919d9411-1be1-48aa-a3d2-035ac48cbd94 div.sk-estimator:hover {background-color: #d4ebff;}#sk-919d9411-1be1-48aa-a3d2-035ac48cbd94 div.sk-parallel-item::after {content: \"\";width: 100%;border-bottom: 1px solid gray;flex-grow: 1;}#sk-919d9411-1be1-48aa-a3d2-035ac48cbd94 div.sk-label:hover label.sk-toggleable__label {background-color: #d4ebff;}#sk-919d9411-1be1-48aa-a3d2-035ac48cbd94 div.sk-serial::before {content: \"\";position: absolute;border-left: 1px solid gray;box-sizing: border-box;top: 2em;bottom: 0;left: 50%;}#sk-919d9411-1be1-48aa-a3d2-035ac48cbd94 div.sk-serial {display: flex;flex-direction: column;align-items: center;background-color: white;padding-right: 0.2em;padding-left: 0.2em;}#sk-919d9411-1be1-48aa-a3d2-035ac48cbd94 div.sk-item {z-index: 1;}#sk-919d9411-1be1-48aa-a3d2-035ac48cbd94 div.sk-parallel {display: flex;align-items: stretch;justify-content: center;background-color: white;}#sk-919d9411-1be1-48aa-a3d2-035ac48cbd94 div.sk-parallel::before {content: \"\";position: absolute;border-left: 1px solid gray;box-sizing: border-box;top: 2em;bottom: 0;left: 50%;}#sk-919d9411-1be1-48aa-a3d2-035ac48cbd94 div.sk-parallel-item {display: flex;flex-direction: column;position: relative;background-color: white;}#sk-919d9411-1be1-48aa-a3d2-035ac48cbd94 div.sk-parallel-item:first-child::after {align-self: flex-end;width: 50%;}#sk-919d9411-1be1-48aa-a3d2-035ac48cbd94 div.sk-parallel-item:last-child::after {align-self: flex-start;width: 50%;}#sk-919d9411-1be1-48aa-a3d2-035ac48cbd94 div.sk-parallel-item:only-child::after {width: 0;}#sk-919d9411-1be1-48aa-a3d2-035ac48cbd94 div.sk-dashed-wrapped {border: 1px dashed gray;margin: 0 0.4em 0.5em 0.4em;box-sizing: border-box;padding-bottom: 0.4em;background-color: white;position: relative;}#sk-919d9411-1be1-48aa-a3d2-035ac48cbd94 div.sk-label label {font-family: monospace;font-weight: bold;background-color: white;display: inline-block;line-height: 1.2em;}#sk-919d9411-1be1-48aa-a3d2-035ac48cbd94 div.sk-label-container {position: relative;z-index: 2;text-align: center;}#sk-919d9411-1be1-48aa-a3d2-035ac48cbd94 div.sk-container {/* jupyter's `normalize.less` sets `[hidden] { display: none; }` but bootstrap.min.css set `[hidden] { display: none !important; }` so we also need the `!important` here to be able to override the default hidden behavior on the sphinx rendered scikit-learn.org. See: https://github.com/scikit-learn/scikit-learn/issues/21755 */display: inline-block !important;position: relative;}#sk-919d9411-1be1-48aa-a3d2-035ac48cbd94 div.sk-text-repr-fallback {display: none;}</style><div id=\"sk-919d9411-1be1-48aa-a3d2-035ac48cbd94\" class=\"sk-top-container\"><div class=\"sk-text-repr-fallback\"><pre>DecisionTreeClassifier(random_state=42)</pre><b>Please rerun this cell to show the HTML repr or trust the notebook.</b></div><div class=\"sk-container\" hidden><div class=\"sk-item\"><div class=\"sk-estimator sk-toggleable\"><input class=\"sk-toggleable__control sk-hidden--visually\" id=\"6f4cf8aa-1cce-49e2-b169-3504e9162f0e\" type=\"checkbox\" checked><label for=\"6f4cf8aa-1cce-49e2-b169-3504e9162f0e\" class=\"sk-toggleable__label sk-toggleable__label-arrow\">DecisionTreeClassifier</label><div class=\"sk-toggleable__content\"><pre>DecisionTreeClassifier(random_state=42)</pre></div></div></div></div></div>"
            ]
          },
          "metadata": {},
          "execution_count": 57
        }
      ]
    },
    {
      "cell_type": "code",
      "source": [
        "# Predict diagnosis\n",
        "\n",
        "predictions= dec_tree.predict(X_test_processed)"
      ],
      "metadata": {
        "id": "InBJSJHq5l0h"
      },
      "execution_count": 58,
      "outputs": []
    },
    {
      "cell_type": "code",
      "source": [
        "# calculate classification accuracy\n",
        "\n",
        "dec_train_score = dec_tree.score(X_train_processed, y_train)\n",
        "dec_test_score = dec_tree.score(X_test_processed, y_test)\n",
        "print(dec_train_score)\n",
        "print(dec_test_score)"
      ],
      "metadata": {
        "colab": {
          "base_uri": "https://localhost:8080/"
        },
        "id": "xw-muJFt5sF5",
        "outputId": "ec771f63-b477-4b22-e1e8-150ef64c4b94"
      },
      "execution_count": 59,
      "outputs": [
        {
          "output_type": "stream",
          "name": "stdout",
          "text": [
            "1.0\n",
            "0.7771408097456108\n"
          ]
        }
      ]
    },
    {
      "cell_type": "code",
      "source": [
        "dec_tree.get_params()"
      ],
      "metadata": {
        "colab": {
          "base_uri": "https://localhost:8080/"
        },
        "id": "Gd9kb7qVFxUj",
        "outputId": "eb58c056-1612-42ea-8101-ea9e9d4c3416"
      },
      "execution_count": 60,
      "outputs": [
        {
          "output_type": "execute_result",
          "data": {
            "text/plain": [
              "{'ccp_alpha': 0.0,\n",
              " 'class_weight': None,\n",
              " 'criterion': 'gini',\n",
              " 'max_depth': None,\n",
              " 'max_features': None,\n",
              " 'max_leaf_nodes': None,\n",
              " 'min_impurity_decrease': 0.0,\n",
              " 'min_samples_leaf': 1,\n",
              " 'min_samples_split': 2,\n",
              " 'min_weight_fraction_leaf': 0.0,\n",
              " 'random_state': 42,\n",
              " 'splitter': 'best'}"
            ]
          },
          "metadata": {},
          "execution_count": 60
        }
      ]
    },
    {
      "cell_type": "code",
      "source": [
        "# actual values what an algorithm should have predicted\n",
        "\n",
        "y_test.values"
      ],
      "metadata": {
        "colab": {
          "base_uri": "https://localhost:8080/"
        },
        "id": "oCSaqoT2-iMS",
        "outputId": "f61644bc-e425-4831-de68-44e58534f3eb"
      },
      "execution_count": 61,
      "outputs": [
        {
          "output_type": "execute_result",
          "data": {
            "text/plain": [
              "array([0, 1, 1, ..., 0, 0, 1])"
            ]
          },
          "metadata": {},
          "execution_count": 61
        }
      ]
    },
    {
      "cell_type": "code",
      "source": [
        "# values that the algorithm predicted\n",
        "\n",
        "predictions"
      ],
      "metadata": {
        "colab": {
          "base_uri": "https://localhost:8080/"
        },
        "id": "cVmuBN4C-st7",
        "outputId": "89f6abb3-7215-4f39-f63f-f9fca8f5ea50"
      },
      "execution_count": 62,
      "outputs": [
        {
          "output_type": "execute_result",
          "data": {
            "text/plain": [
              "array([0, 1, 1, ..., 0, 0, 0])"
            ]
          },
          "metadata": {},
          "execution_count": 62
        }
      ]
    },
    {
      "cell_type": "code",
      "source": [
        "# actual values: y_test.values\n",
        "# predictions: model predictions\n",
        "\n",
        "cm = metrics.confusion_matrix(y_test.values, predictions)"
      ],
      "metadata": {
        "id": "MYlZNGCm-3zO"
      },
      "execution_count": 63,
      "outputs": []
    },
    {
      "cell_type": "code",
      "source": [
        "cm"
      ],
      "metadata": {
        "colab": {
          "base_uri": "https://localhost:8080/"
        },
        "id": "O6tiQm7T_RhT",
        "outputId": "49c3208f-62bb-42b4-f285-38dfbe8ac669"
      },
      "execution_count": 64,
      "outputs": [
        {
          "output_type": "execute_result",
          "data": {
            "text/plain": [
              "array([[1158,  292],\n",
              "       [ 330, 1011]])"
            ]
          },
          "metadata": {},
          "execution_count": 64
        }
      ]
    },
    {
      "cell_type": "code",
      "source": [
        "cm.shape"
      ],
      "metadata": {
        "colab": {
          "base_uri": "https://localhost:8080/"
        },
        "id": "IM4zdHZe_VKz",
        "outputId": "1754963a-3d37-4b80-d1f9-c50a2be48b24"
      },
      "execution_count": 65,
      "outputs": [
        {
          "output_type": "execute_result",
          "data": {
            "text/plain": [
              "(2, 2)"
            ]
          },
          "metadata": {},
          "execution_count": 65
        }
      ]
    },
    {
      "cell_type": "code",
      "source": [
        "cm.ravel().shape\n"
      ],
      "metadata": {
        "colab": {
          "base_uri": "https://localhost:8080/"
        },
        "id": "oT04xXYC_Y1C",
        "outputId": "65dd6756-61b8-4a27-c08b-e6af30ea449e"
      },
      "execution_count": 66,
      "outputs": [
        {
          "output_type": "execute_result",
          "data": {
            "text/plain": [
              "(4,)"
            ]
          },
          "metadata": {},
          "execution_count": 66
        }
      ]
    },
    {
      "cell_type": "code",
      "source": [
        "# unpacking\n",
        "\n",
        "tn, fp, fn, tp = cm.ravel() "
      ],
      "metadata": {
        "id": "xgzLmgsZ_-BT"
      },
      "execution_count": 67,
      "outputs": []
    },
    {
      "cell_type": "code",
      "source": [
        "tn"
      ],
      "metadata": {
        "colab": {
          "base_uri": "https://localhost:8080/"
        },
        "id": "nvdBLW41A9hD",
        "outputId": "37f5deb3-3b01-4c52-e7f6-0b92aa395118"
      },
      "execution_count": 68,
      "outputs": [
        {
          "output_type": "execute_result",
          "data": {
            "text/plain": [
              "1158"
            ]
          },
          "metadata": {},
          "execution_count": 68
        }
      ]
    },
    {
      "cell_type": "code",
      "source": [
        "fp"
      ],
      "metadata": {
        "colab": {
          "base_uri": "https://localhost:8080/"
        },
        "id": "YOA4bGe3BAAk",
        "outputId": "8b28ee4a-e14d-4621-c309-124d16a18904"
      },
      "execution_count": 69,
      "outputs": [
        {
          "output_type": "execute_result",
          "data": {
            "text/plain": [
              "292"
            ]
          },
          "metadata": {},
          "execution_count": 69
        }
      ]
    },
    {
      "cell_type": "code",
      "source": [
        "fn"
      ],
      "metadata": {
        "colab": {
          "base_uri": "https://localhost:8080/"
        },
        "id": "KesHDH9dBCyh",
        "outputId": "808a11da-58dc-4a55-b58f-6051f05b2287"
      },
      "execution_count": 70,
      "outputs": [
        {
          "output_type": "execute_result",
          "data": {
            "text/plain": [
              "330"
            ]
          },
          "metadata": {},
          "execution_count": 70
        }
      ]
    },
    {
      "cell_type": "code",
      "source": [
        "tp"
      ],
      "metadata": {
        "colab": {
          "base_uri": "https://localhost:8080/"
        },
        "id": "oBG00PYRBEe_",
        "outputId": "a5cb3dc7-68ed-4487-91ae-23f4f2c6e6a8"
      },
      "execution_count": 71,
      "outputs": [
        {
          "output_type": "execute_result",
          "data": {
            "text/plain": [
              "1011"
            ]
          },
          "metadata": {},
          "execution_count": 71
        }
      ]
    },
    {
      "cell_type": "code",
      "source": [
        "from sklearn.metrics import plot_confusion_matrix\n",
        "plot_confusion_matrix(dec_tree, X_test_processed, y_test, cmap = 'Blues');"
      ],
      "metadata": {
        "colab": {
          "base_uri": "https://localhost:8080/",
          "height": 416
        },
        "id": "cGSyP2u9AzAK",
        "outputId": "ad4814ed-1eb9-4865-dd77-410e877a1143"
      },
      "execution_count": 72,
      "outputs": [
        {
          "output_type": "stream",
          "name": "stderr",
          "text": [
            "/usr/local/lib/python3.7/dist-packages/sklearn/utils/deprecation.py:87: FutureWarning: Function plot_confusion_matrix is deprecated; Function `plot_confusion_matrix` is deprecated in 1.0 and will be removed in 1.2. Use one of the class methods: ConfusionMatrixDisplay.from_predictions or ConfusionMatrixDisplay.from_estimator.\n",
            "  warnings.warn(msg, category=FutureWarning)\n"
          ]
        },
        {
          "output_type": "display_data",
          "data": {
            "text/plain": [
              "<Figure size 576x396 with 2 Axes>"
            ],
            "image/png": "[encoded data removed]"
          },
          "metadata": {}
        }
      ]
    },
    {
      "cell_type": "code",
      "source": [
        "gbc = GradientBoostingClassifier()\n",
        "gbc.fit(X_train_processed, y_train)"
      ],
      "metadata": {
        "id": "ol3CrmVupJ-x",
        "outputId": "7c6b57ed-6763-47b8-f9ff-355d5cc57e1a",
        "colab": {
          "base_uri": "https://localhost:8080/",
          "height": 75
        }
      },
      "execution_count": 73,
      "outputs": [
        {
          "output_type": "execute_result",
          "data": {
            "text/plain": [
              "GradientBoostingClassifier()"
            ],
            "text/html": [
              "<style>#sk-d85a5d0b-3236-49d5-afb1-bdfb12e4e1ec {color: black;background-color: white;}#sk-d85a5d0b-3236-49d5-afb1-bdfb12e4e1ec pre{padding: 0;}#sk-d85a5d0b-3236-49d5-afb1-bdfb12e4e1ec div.sk-toggleable {background-color: white;}#sk-d85a5d0b-3236-49d5-afb1-bdfb12e4e1ec label.sk-toggleable__label {cursor: pointer;display: block;width: 100%;margin-bottom: 0;padding: 0.3em;box-sizing: border-box;text-align: center;}#sk-d85a5d0b-3236-49d5-afb1-bdfb12e4e1ec label.sk-toggleable__label-arrow:before {content: \"▸\";float: left;margin-right: 0.25em;color: #696969;}#sk-d85a5d0b-3236-49d5-afb1-bdfb12e4e1ec label.sk-toggleable__label-arrow:hover:before {color: black;}#sk-d85a5d0b-3236-49d5-afb1-bdfb12e4e1ec div.sk-estimator:hover label.sk-toggleable__label-arrow:before {color: black;}#sk-d85a5d0b-3236-49d5-afb1-bdfb12e4e1ec div.sk-toggleable__content {max-height: 0;max-width: 0;overflow: hidden;text-align: left;background-color: #f0f8ff;}#sk-d85a5d0b-3236-49d5-afb1-bdfb12e4e1ec div.sk-toggleable__content pre {margin: 0.2em;color: black;border-radius: 0.25em;background-color: #f0f8ff;}#sk-d85a5d0b-3236-49d5-afb1-bdfb12e4e1ec input.sk-toggleable__control:checked~div.sk-toggleable__content {max-height: 200px;max-width: 100%;overflow: auto;}#sk-d85a5d0b-3236-49d5-afb1-bdfb12e4e1ec input.sk-toggleable__control:checked~label.sk-toggleable__label-arrow:before {content: \"▾\";}#sk-d85a5d0b-3236-49d5-afb1-bdfb12e4e1ec div.sk-estimator input.sk-toggleable__control:checked~label.sk-toggleable__label {background-color: #d4ebff;}#sk-d85a5d0b-3236-49d5-afb1-bdfb12e4e1ec div.sk-label input.sk-toggleable__control:checked~label.sk-toggleable__label {background-color: #d4ebff;}#sk-d85a5d0b-3236-49d5-afb1-bdfb12e4e1ec input.sk-hidden--visually {border: 0;clip: rect(1px 1px 1px 1px);clip: rect(1px, 1px, 1px, 1px);height: 1px;margin: -1px;overflow: hidden;padding: 0;position: absolute;width: 1px;}#sk-d85a5d0b-3236-49d5-afb1-bdfb12e4e1ec div.sk-estimator {font-family: monospace;background-color: #f0f8ff;border: 1px dotted black;border-radius: 0.25em;box-sizing: border-box;margin-bottom: 0.5em;}#sk-d85a5d0b-3236-49d5-afb1-bdfb12e4e1ec div.sk-estimator:hover {background-color: #d4ebff;}#sk-d85a5d0b-3236-49d5-afb1-bdfb12e4e1ec div.sk-parallel-item::after {content: \"\";width: 100%;border-bottom: 1px solid gray;flex-grow: 1;}#sk-d85a5d0b-3236-49d5-afb1-bdfb12e4e1ec div.sk-label:hover label.sk-toggleable__label {background-color: #d4ebff;}#sk-d85a5d0b-3236-49d5-afb1-bdfb12e4e1ec div.sk-serial::before {content: \"\";position: absolute;border-left: 1px solid gray;box-sizing: border-box;top: 2em;bottom: 0;left: 50%;}#sk-d85a5d0b-3236-49d5-afb1-bdfb12e4e1ec div.sk-serial {display: flex;flex-direction: column;align-items: center;background-color: white;padding-right: 0.2em;padding-left: 0.2em;}#sk-d85a5d0b-3236-49d5-afb1-bdfb12e4e1ec div.sk-item {z-index: 1;}#sk-d85a5d0b-3236-49d5-afb1-bdfb12e4e1ec div.sk-parallel {display: flex;align-items: stretch;justify-content: center;background-color: white;}#sk-d85a5d0b-3236-49d5-afb1-bdfb12e4e1ec div.sk-parallel::before {content: \"\";position: absolute;border-left: 1px solid gray;box-sizing: border-box;top: 2em;bottom: 0;left: 50%;}#sk-d85a5d0b-3236-49d5-afb1-bdfb12e4e1ec div.sk-parallel-item {display: flex;flex-direction: column;position: relative;background-color: white;}#sk-d85a5d0b-3236-49d5-afb1-bdfb12e4e1ec div.sk-parallel-item:first-child::after {align-self: flex-end;width: 50%;}#sk-d85a5d0b-3236-49d5-afb1-bdfb12e4e1ec div.sk-parallel-item:last-child::after {align-self: flex-start;width: 50%;}#sk-d85a5d0b-3236-49d5-afb1-bdfb12e4e1ec div.sk-parallel-item:only-child::after {width: 0;}#sk-d85a5d0b-3236-49d5-afb1-bdfb12e4e1ec div.sk-dashed-wrapped {border: 1px dashed gray;margin: 0 0.4em 0.5em 0.4em;box-sizing: border-box;padding-bottom: 0.4em;background-color: white;position: relative;}#sk-d85a5d0b-3236-49d5-afb1-bdfb12e4e1ec div.sk-label label {font-family: monospace;font-weight: bold;background-color: white;display: inline-block;line-height: 1.2em;}#sk-d85a5d0b-3236-49d5-afb1-bdfb12e4e1ec div.sk-label-container {position: relative;z-index: 2;text-align: center;}#sk-d85a5d0b-3236-49d5-afb1-bdfb12e4e1ec div.sk-container {/* jupyter's `normalize.less` sets `[hidden] { display: none; }` but bootstrap.min.css set `[hidden] { display: none !important; }` so we also need the `!important` here to be able to override the default hidden behavior on the sphinx rendered scikit-learn.org. See: https://github.com/scikit-learn/scikit-learn/issues/21755 */display: inline-block !important;position: relative;}#sk-d85a5d0b-3236-49d5-afb1-bdfb12e4e1ec div.sk-text-repr-fallback {display: none;}</style><div id=\"sk-d85a5d0b-3236-49d5-afb1-bdfb12e4e1ec\" class=\"sk-top-container\"><div class=\"sk-text-repr-fallback\"><pre>GradientBoostingClassifier()</pre><b>Please rerun this cell to show the HTML repr or trust the notebook.</b></div><div class=\"sk-container\" hidden><div class=\"sk-item\"><div class=\"sk-estimator sk-toggleable\"><input class=\"sk-toggleable__control sk-hidden--visually\" id=\"f5638f53-c00a-4fc9-ab63-457f8c7ca867\" type=\"checkbox\" checked><label for=\"f5638f53-c00a-4fc9-ab63-457f8c7ca867\" class=\"sk-toggleable__label sk-toggleable__label-arrow\">GradientBoostingClassifier</label><div class=\"sk-toggleable__content\"><pre>GradientBoostingClassifier()</pre></div></div></div></div></div>"
            ]
          },
          "metadata": {},
          "execution_count": 73
        }
      ]
    },
    {
      "cell_type": "code",
      "source": [
        "print('Training accuracy:', gbc.score(X_train_processed, y_train))\n",
        "print('Testing accuracy:', gbc.score(X_test_processed, y_test))"
      ],
      "metadata": {
        "id": "fRW_H4v5p1cG",
        "outputId": "c431fc55-2d5b-4ab6-8c89-3f31d30a0370",
        "colab": {
          "base_uri": "https://localhost:8080/"
        }
      },
      "execution_count": 74,
      "outputs": [
        {
          "output_type": "stream",
          "name": "stdout",
          "text": [
            "Training accuracy: 0.8622625731692749\n",
            "Testing accuracy: 0.8355428161949122\n"
          ]
        }
      ]
    },
    {
      "cell_type": "code",
      "source": [
        "# Instantiate and fit gradient boosting classifier\n",
        "xgb = XGBClassifier(n_estimators=100, learning_rate=0.08, gamma=0, subsample=0.75,\n",
        "                           colsample_bytree=1, max_depth=7)\n",
        "\n",
        "xgb.fit(X_train_processed,y_train.squeeze().values)\n",
        "\n",
        "#calculate and print scores for the model for top 15 features\n",
        "y_train_preds = xgb.predict(X_train_processed)\n",
        "y_test_preds = xgb.predict(X_test_processed)\n",
        "\n",
        "\n",
        "print('Training accuracy:', xgb.score(X_train_processed, y_train))\n",
        "print('Testing accuracy:', xgb.score(X_test_processed, y_test))\n",
        "\n"
      ],
      "metadata": {
        "id": "6cywgDSJzCFU",
        "outputId": "634b6d72-2492-49b4-a131-8b3a56a46a00",
        "colab": {
          "base_uri": "https://localhost:8080/"
        }
      },
      "execution_count": 82,
      "outputs": [
        {
          "output_type": "stream",
          "name": "stdout",
          "text": [
            "Training accuracy: 0.9137498506749492\n",
            "Testing accuracy: 0.8484414188462917\n"
          ]
        }
      ]
    },
    {
      "cell_type": "code",
      "source": [
        "#get feature importances from the model\n",
        "headers = [\"name\", \"score\"]\n",
        "values = sorted(zip(X_train.columns, xgb.feature_importances_), key=lambda x: x[1] * -1)\n",
        "xgb_feature_importances = pd.DataFrame(values, columns = headers)\n",
        "\n",
        "#plot feature importances\n",
        "x_pos = np.arange(0, len(xgb_feature_importances))\n",
        "plt.bar(x_pos, xgb_feature_importances['score'])\n",
        "plt.xticks(x_pos, xgb_feature_importances['name'])\n",
        "plt.xticks(rotation=90)\n",
        "plt.title('Feature importances (XGB)')\n",
        "\n",
        "plt.show()"
      ],
      "metadata": {
        "id": "tuOONRCXz-EU",
        "outputId": "6683b18a-319d-4a64-9f36-af1291a22f69",
        "colab": {
          "base_uri": "https://localhost:8080/",
          "height": 396
        }
      },
      "execution_count": 85,
      "outputs": [
        {
          "output_type": "display_data",
          "data": {
            "text/plain": [
              "<Figure size 576x396 with 1 Axes>"
            ],
            "image/png": "[encoded data removed]"
          },
          "metadata": {}
        }
      ]
    }
  ]
}